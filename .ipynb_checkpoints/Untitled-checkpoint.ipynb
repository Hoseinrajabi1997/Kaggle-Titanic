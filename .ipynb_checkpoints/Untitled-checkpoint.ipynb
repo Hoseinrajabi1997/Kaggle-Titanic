{
 "cells": [
  {
   "cell_type": "code",
   "execution_count": 1,
   "id": "408a24f9",
   "metadata": {},
   "outputs": [],
   "source": [
    "import numpy as np\n",
    "import pandas as pd\n",
    "import matplotlib.pyplot as plt\n",
    "import seaborn as sns\n",
    "from sklearn.ensemble import RandomForestClassifier\n",
    "from sklearn.preprocessing import OneHotEncoder, LabelEncoder, StandardScaler\n",
    "from sklearn.model_selection import GridSearchCV\n",
    "from sklearn.model_selection import cross_val_predict,cross_val_score,StratifiedKFold\n",
    "from sklearn.metrics import classification_report\n",
    "from sklearn.linear_model import LogisticRegression\n",
    "from sklearn.svm import SVC\n",
    "from sklearn.tree import DecisionTreeClassifier"
   ]
  },
  {
   "cell_type": "code",
   "execution_count": 2,
   "id": "97a7cab3",
   "metadata": {},
   "outputs": [],
   "source": [
    "train_df = pd.read_csv(\"train.csv\", index_col='PassengerId')\n",
    "test_df = pd.read_csv(\"test.csv\", index_col='PassengerId')\n",
    "all_df = [train_df,test_df]"
   ]
  },
  {
   "cell_type": "code",
   "execution_count": 3,
   "id": "5d10f84f",
   "metadata": {},
   "outputs": [
    {
     "data": {
      "text/html": [
       "<div>\n",
       "<style scoped>\n",
       "    .dataframe tbody tr th:only-of-type {\n",
       "        vertical-align: middle;\n",
       "    }\n",
       "\n",
       "    .dataframe tbody tr th {\n",
       "        vertical-align: top;\n",
       "    }\n",
       "\n",
       "    .dataframe thead th {\n",
       "        text-align: right;\n",
       "    }\n",
       "</style>\n",
       "<table border=\"1\" class=\"dataframe\">\n",
       "  <thead>\n",
       "    <tr style=\"text-align: right;\">\n",
       "      <th></th>\n",
       "      <th>Survived</th>\n",
       "      <th>Pclass</th>\n",
       "      <th>Name</th>\n",
       "      <th>Sex</th>\n",
       "      <th>Age</th>\n",
       "      <th>SibSp</th>\n",
       "      <th>Parch</th>\n",
       "      <th>Ticket</th>\n",
       "      <th>Fare</th>\n",
       "      <th>Cabin</th>\n",
       "      <th>Embarked</th>\n",
       "    </tr>\n",
       "    <tr>\n",
       "      <th>PassengerId</th>\n",
       "      <th></th>\n",
       "      <th></th>\n",
       "      <th></th>\n",
       "      <th></th>\n",
       "      <th></th>\n",
       "      <th></th>\n",
       "      <th></th>\n",
       "      <th></th>\n",
       "      <th></th>\n",
       "      <th></th>\n",
       "      <th></th>\n",
       "    </tr>\n",
       "  </thead>\n",
       "  <tbody>\n",
       "    <tr>\n",
       "      <th>697</th>\n",
       "      <td>0</td>\n",
       "      <td>3</td>\n",
       "      <td>Kelly, Mr. James</td>\n",
       "      <td>male</td>\n",
       "      <td>44.0</td>\n",
       "      <td>0</td>\n",
       "      <td>0</td>\n",
       "      <td>363592</td>\n",
       "      <td>8.0500</td>\n",
       "      <td>NaN</td>\n",
       "      <td>S</td>\n",
       "    </tr>\n",
       "    <tr>\n",
       "      <th>592</th>\n",
       "      <td>1</td>\n",
       "      <td>1</td>\n",
       "      <td>Stephenson, Mrs. Walter Bertram (Martha Eustis)</td>\n",
       "      <td>female</td>\n",
       "      <td>52.0</td>\n",
       "      <td>1</td>\n",
       "      <td>0</td>\n",
       "      <td>36947</td>\n",
       "      <td>78.2667</td>\n",
       "      <td>D20</td>\n",
       "      <td>C</td>\n",
       "    </tr>\n",
       "    <tr>\n",
       "      <th>279</th>\n",
       "      <td>0</td>\n",
       "      <td>3</td>\n",
       "      <td>Rice, Master. Eric</td>\n",
       "      <td>male</td>\n",
       "      <td>7.0</td>\n",
       "      <td>4</td>\n",
       "      <td>1</td>\n",
       "      <td>382652</td>\n",
       "      <td>29.1250</td>\n",
       "      <td>NaN</td>\n",
       "      <td>Q</td>\n",
       "    </tr>\n",
       "    <tr>\n",
       "      <th>575</th>\n",
       "      <td>0</td>\n",
       "      <td>3</td>\n",
       "      <td>Rush, Mr. Alfred George John</td>\n",
       "      <td>male</td>\n",
       "      <td>16.0</td>\n",
       "      <td>0</td>\n",
       "      <td>0</td>\n",
       "      <td>A/4. 20589</td>\n",
       "      <td>8.0500</td>\n",
       "      <td>NaN</td>\n",
       "      <td>S</td>\n",
       "    </tr>\n",
       "    <tr>\n",
       "      <th>333</th>\n",
       "      <td>0</td>\n",
       "      <td>1</td>\n",
       "      <td>Graham, Mr. George Edward</td>\n",
       "      <td>male</td>\n",
       "      <td>38.0</td>\n",
       "      <td>0</td>\n",
       "      <td>1</td>\n",
       "      <td>PC 17582</td>\n",
       "      <td>153.4625</td>\n",
       "      <td>C91</td>\n",
       "      <td>S</td>\n",
       "    </tr>\n",
       "  </tbody>\n",
       "</table>\n",
       "</div>"
      ],
      "text/plain": [
       "             Survived  Pclass  \\\n",
       "PassengerId                     \n",
       "697                 0       3   \n",
       "592                 1       1   \n",
       "279                 0       3   \n",
       "575                 0       3   \n",
       "333                 0       1   \n",
       "\n",
       "                                                        Name     Sex   Age  \\\n",
       "PassengerId                                                                  \n",
       "697                                         Kelly, Mr. James    male  44.0   \n",
       "592          Stephenson, Mrs. Walter Bertram (Martha Eustis)  female  52.0   \n",
       "279                                       Rice, Master. Eric    male   7.0   \n",
       "575                             Rush, Mr. Alfred George John    male  16.0   \n",
       "333                                Graham, Mr. George Edward    male  38.0   \n",
       "\n",
       "             SibSp  Parch      Ticket      Fare Cabin Embarked  \n",
       "PassengerId                                                     \n",
       "697              0      0      363592    8.0500   NaN        S  \n",
       "592              1      0       36947   78.2667   D20        C  \n",
       "279              4      1      382652   29.1250   NaN        Q  \n",
       "575              0      0  A/4. 20589    8.0500   NaN        S  \n",
       "333              0      1    PC 17582  153.4625   C91        S  "
      ]
     },
     "execution_count": 3,
     "metadata": {},
     "output_type": "execute_result"
    }
   ],
   "source": [
    "train_df.sample(5)"
   ]
  },
  {
   "cell_type": "code",
   "execution_count": 4,
   "id": "6c731c7f",
   "metadata": {},
   "outputs": [
    {
     "data": {
      "image/png": "[encoded data removed]",
      "text/plain": [
       "<Figure size 1200x800 with 6 Axes>"
      ]
     },
     "metadata": {},
     "output_type": "display_data"
    }
   ],
   "source": [
    "train_df.hist(bins=50, figsize=(12,8))\n",
    "plt.show()"
   ]
  },
  {
   "cell_type": "markdown",
   "id": "f2f170fc",
   "metadata": {},
   "source": [
    "As we can see here, Most of the passengers in our data set could not survive. A large portion of passengers are from Pclass 3(Poor class). Age shows that a large portion of passengers are young people. SibSP and Parch is 0 fro alot of passengers, so they travelled alone. We can use these to features to make a new feature that maybe help. Lower fares have bigger percentage compared to higher ones(Poor class > rich class). The distribution of Age and Fare needs to be fixed using some methods."
   ]
  },
  {
   "cell_type": "code",
   "execution_count": 5,
   "id": "b7227d29",
   "metadata": {},
   "outputs": [
    {
     "name": "stdout",
     "output_type": "stream",
     "text": [
      "<class 'pandas.core.frame.DataFrame'>\n",
      "Int64Index: 891 entries, 1 to 891\n",
      "Data columns (total 11 columns):\n",
      " #   Column    Non-Null Count  Dtype  \n",
      "---  ------    --------------  -----  \n",
      " 0   Survived  891 non-null    int64  \n",
      " 1   Pclass    891 non-null    int64  \n",
      " 2   Name      891 non-null    object \n",
      " 3   Sex       891 non-null    object \n",
      " 4   Age       714 non-null    float64\n",
      " 5   SibSp     891 non-null    int64  \n",
      " 6   Parch     891 non-null    int64  \n",
      " 7   Ticket    891 non-null    object \n",
      " 8   Fare      891 non-null    float64\n",
      " 9   Cabin     204 non-null    object \n",
      " 10  Embarked  889 non-null    object \n",
      "dtypes: float64(2), int64(4), object(5)\n",
      "memory usage: 83.5+ KB\n"
     ]
    }
   ],
   "source": [
    "train_df.info()"
   ]
  },
  {
   "cell_type": "markdown",
   "id": "2d5fbb17",
   "metadata": {},
   "source": [
    "891 data exists and we have some missing values on Age, Cabin, Embarked. They should be filled with some values(mean, mode, median)."
   ]
  },
  {
   "cell_type": "code",
   "execution_count": 6,
   "id": "1b739e4e",
   "metadata": {},
   "outputs": [
    {
     "name": "stdout",
     "output_type": "stream",
     "text": [
      "<class 'pandas.core.frame.DataFrame'>\n",
      "Int64Index: 418 entries, 892 to 1309\n",
      "Data columns (total 10 columns):\n",
      " #   Column    Non-Null Count  Dtype  \n",
      "---  ------    --------------  -----  \n",
      " 0   Pclass    418 non-null    int64  \n",
      " 1   Name      418 non-null    object \n",
      " 2   Sex       418 non-null    object \n",
      " 3   Age       332 non-null    float64\n",
      " 4   SibSp     418 non-null    int64  \n",
      " 5   Parch     418 non-null    int64  \n",
      " 6   Ticket    418 non-null    object \n",
      " 7   Fare      417 non-null    float64\n",
      " 8   Cabin     91 non-null     object \n",
      " 9   Embarked  418 non-null    object \n",
      "dtypes: float64(2), int64(3), object(5)\n",
      "memory usage: 35.9+ KB\n"
     ]
    }
   ],
   "source": [
    "test_df.info()"
   ]
  },
  {
   "cell_type": "markdown",
   "id": "e899fe95",
   "metadata": {},
   "source": [
    "418 data points exist on the test set. It has missing values on Age, Fare, Cabin columns that needs to be filled."
   ]
  },
  {
   "cell_type": "code",
   "execution_count": 7,
   "id": "721623d6",
   "metadata": {},
   "outputs": [
    {
     "data": {
      "text/html": [
       "<div>\n",
       "<style scoped>\n",
       "    .dataframe tbody tr th:only-of-type {\n",
       "        vertical-align: middle;\n",
       "    }\n",
       "\n",
       "    .dataframe tbody tr th {\n",
       "        vertical-align: top;\n",
       "    }\n",
       "\n",
       "    .dataframe thead th {\n",
       "        text-align: right;\n",
       "    }\n",
       "</style>\n",
       "<table border=\"1\" class=\"dataframe\">\n",
       "  <thead>\n",
       "    <tr style=\"text-align: right;\">\n",
       "      <th></th>\n",
       "      <th>Survived</th>\n",
       "      <th>Pclass</th>\n",
       "      <th>Age</th>\n",
       "      <th>SibSp</th>\n",
       "      <th>Parch</th>\n",
       "      <th>Fare</th>\n",
       "    </tr>\n",
       "  </thead>\n",
       "  <tbody>\n",
       "    <tr>\n",
       "      <th>count</th>\n",
       "      <td>891.000000</td>\n",
       "      <td>891.000000</td>\n",
       "      <td>714.000000</td>\n",
       "      <td>891.000000</td>\n",
       "      <td>891.000000</td>\n",
       "      <td>891.000000</td>\n",
       "    </tr>\n",
       "    <tr>\n",
       "      <th>mean</th>\n",
       "      <td>0.383838</td>\n",
       "      <td>2.308642</td>\n",
       "      <td>29.699118</td>\n",
       "      <td>0.523008</td>\n",
       "      <td>0.381594</td>\n",
       "      <td>32.204208</td>\n",
       "    </tr>\n",
       "    <tr>\n",
       "      <th>std</th>\n",
       "      <td>0.486592</td>\n",
       "      <td>0.836071</td>\n",
       "      <td>14.526497</td>\n",
       "      <td>1.102743</td>\n",
       "      <td>0.806057</td>\n",
       "      <td>49.693429</td>\n",
       "    </tr>\n",
       "    <tr>\n",
       "      <th>min</th>\n",
       "      <td>0.000000</td>\n",
       "      <td>1.000000</td>\n",
       "      <td>0.420000</td>\n",
       "      <td>0.000000</td>\n",
       "      <td>0.000000</td>\n",
       "      <td>0.000000</td>\n",
       "    </tr>\n",
       "    <tr>\n",
       "      <th>25%</th>\n",
       "      <td>0.000000</td>\n",
       "      <td>2.000000</td>\n",
       "      <td>20.125000</td>\n",
       "      <td>0.000000</td>\n",
       "      <td>0.000000</td>\n",
       "      <td>7.910400</td>\n",
       "    </tr>\n",
       "    <tr>\n",
       "      <th>50%</th>\n",
       "      <td>0.000000</td>\n",
       "      <td>3.000000</td>\n",
       "      <td>28.000000</td>\n",
       "      <td>0.000000</td>\n",
       "      <td>0.000000</td>\n",
       "      <td>14.454200</td>\n",
       "    </tr>\n",
       "    <tr>\n",
       "      <th>75%</th>\n",
       "      <td>1.000000</td>\n",
       "      <td>3.000000</td>\n",
       "      <td>38.000000</td>\n",
       "      <td>1.000000</td>\n",
       "      <td>0.000000</td>\n",
       "      <td>31.000000</td>\n",
       "    </tr>\n",
       "    <tr>\n",
       "      <th>max</th>\n",
       "      <td>1.000000</td>\n",
       "      <td>3.000000</td>\n",
       "      <td>80.000000</td>\n",
       "      <td>8.000000</td>\n",
       "      <td>6.000000</td>\n",
       "      <td>512.329200</td>\n",
       "    </tr>\n",
       "  </tbody>\n",
       "</table>\n",
       "</div>"
      ],
      "text/plain": [
       "         Survived      Pclass         Age       SibSp       Parch        Fare\n",
       "count  891.000000  891.000000  714.000000  891.000000  891.000000  891.000000\n",
       "mean     0.383838    2.308642   29.699118    0.523008    0.381594   32.204208\n",
       "std      0.486592    0.836071   14.526497    1.102743    0.806057   49.693429\n",
       "min      0.000000    1.000000    0.420000    0.000000    0.000000    0.000000\n",
       "25%      0.000000    2.000000   20.125000    0.000000    0.000000    7.910400\n",
       "50%      0.000000    3.000000   28.000000    0.000000    0.000000   14.454200\n",
       "75%      1.000000    3.000000   38.000000    1.000000    0.000000   31.000000\n",
       "max      1.000000    3.000000   80.000000    8.000000    6.000000  512.329200"
      ]
     },
     "execution_count": 7,
     "metadata": {},
     "output_type": "execute_result"
    }
   ],
   "source": [
    "train_df.describe(exclude=['O'])"
   ]
  },
  {
   "cell_type": "markdown",
   "id": "9f631893",
   "metadata": {},
   "source": [
    "We can see here that ony 38% of passengers survived. big number of passengers are young people (29)."
   ]
  },
  {
   "cell_type": "code",
   "execution_count": 8,
   "id": "f79efefe",
   "metadata": {},
   "outputs": [
    {
     "data": {
      "text/html": [
       "<div>\n",
       "<style scoped>\n",
       "    .dataframe tbody tr th:only-of-type {\n",
       "        vertical-align: middle;\n",
       "    }\n",
       "\n",
       "    .dataframe tbody tr th {\n",
       "        vertical-align: top;\n",
       "    }\n",
       "\n",
       "    .dataframe thead th {\n",
       "        text-align: right;\n",
       "    }\n",
       "</style>\n",
       "<table border=\"1\" class=\"dataframe\">\n",
       "  <thead>\n",
       "    <tr style=\"text-align: right;\">\n",
       "      <th></th>\n",
       "      <th>Name</th>\n",
       "      <th>Sex</th>\n",
       "      <th>Ticket</th>\n",
       "      <th>Cabin</th>\n",
       "      <th>Embarked</th>\n",
       "    </tr>\n",
       "  </thead>\n",
       "  <tbody>\n",
       "    <tr>\n",
       "      <th>count</th>\n",
       "      <td>891</td>\n",
       "      <td>891</td>\n",
       "      <td>891</td>\n",
       "      <td>204</td>\n",
       "      <td>889</td>\n",
       "    </tr>\n",
       "    <tr>\n",
       "      <th>unique</th>\n",
       "      <td>891</td>\n",
       "      <td>2</td>\n",
       "      <td>681</td>\n",
       "      <td>147</td>\n",
       "      <td>3</td>\n",
       "    </tr>\n",
       "    <tr>\n",
       "      <th>top</th>\n",
       "      <td>Braund, Mr. Owen Harris</td>\n",
       "      <td>male</td>\n",
       "      <td>347082</td>\n",
       "      <td>B96 B98</td>\n",
       "      <td>S</td>\n",
       "    </tr>\n",
       "    <tr>\n",
       "      <th>freq</th>\n",
       "      <td>1</td>\n",
       "      <td>577</td>\n",
       "      <td>7</td>\n",
       "      <td>4</td>\n",
       "      <td>644</td>\n",
       "    </tr>\n",
       "  </tbody>\n",
       "</table>\n",
       "</div>"
      ],
      "text/plain": [
       "                           Name   Sex  Ticket    Cabin Embarked\n",
       "count                       891   891     891      204      889\n",
       "unique                      891     2     681      147        3\n",
       "top     Braund, Mr. Owen Harris  male  347082  B96 B98        S\n",
       "freq                          1   577       7        4      644"
      ]
     },
     "execution_count": 8,
     "metadata": {},
     "output_type": "execute_result"
    }
   ],
   "source": [
    "train_df.describe(include=['O'])"
   ]
  },
  {
   "cell_type": "code",
   "execution_count": 9,
   "id": "d9ddca4e",
   "metadata": {},
   "outputs": [
    {
     "data": {
      "text/plain": [
       "<seaborn.axisgrid.FacetGrid at 0x1bec00ff450>"
      ]
     },
     "execution_count": 9,
     "metadata": {},
     "output_type": "execute_result"
    },
    {
     "data": {
      "image/png": "[encoded data removed]",
      "text/plain": [
       "<Figure size 600x300 with 2 Axes>"
      ]
     },
     "metadata": {},
     "output_type": "display_data"
    }
   ],
   "source": [
    "g = sns.FacetGrid(train_df, col='Survived')\n",
    "g.map(plt.hist, 'Pclass')"
   ]
  },
  {
   "cell_type": "code",
   "execution_count": 10,
   "id": "8c68654f",
   "metadata": {},
   "outputs": [
    {
     "data": {
      "text/html": [
       "<div>\n",
       "<style scoped>\n",
       "    .dataframe tbody tr th:only-of-type {\n",
       "        vertical-align: middle;\n",
       "    }\n",
       "\n",
       "    .dataframe tbody tr th {\n",
       "        vertical-align: top;\n",
       "    }\n",
       "\n",
       "    .dataframe thead th {\n",
       "        text-align: right;\n",
       "    }\n",
       "</style>\n",
       "<table border=\"1\" class=\"dataframe\">\n",
       "  <thead>\n",
       "    <tr style=\"text-align: right;\">\n",
       "      <th></th>\n",
       "      <th>Pclass</th>\n",
       "      <th>Survived</th>\n",
       "    </tr>\n",
       "  </thead>\n",
       "  <tbody>\n",
       "    <tr>\n",
       "      <th>0</th>\n",
       "      <td>1</td>\n",
       "      <td>0.629630</td>\n",
       "    </tr>\n",
       "    <tr>\n",
       "      <th>1</th>\n",
       "      <td>2</td>\n",
       "      <td>0.472826</td>\n",
       "    </tr>\n",
       "    <tr>\n",
       "      <th>2</th>\n",
       "      <td>3</td>\n",
       "      <td>0.242363</td>\n",
       "    </tr>\n",
       "  </tbody>\n",
       "</table>\n",
       "</div>"
      ],
      "text/plain": [
       "   Pclass  Survived\n",
       "0       1  0.629630\n",
       "1       2  0.472826\n",
       "2       3  0.242363"
      ]
     },
     "execution_count": 10,
     "metadata": {},
     "output_type": "execute_result"
    }
   ],
   "source": [
    "train_df[['Pclass','Survived']].groupby(['Pclass'],as_index=False).mean()"
   ]
  },
  {
   "cell_type": "markdown",
   "id": "d98c15ca",
   "metadata": {},
   "source": [
    "There is a strong relation between Pclass and Survived here. Pclass=1 has higher survival rate. Then P2 and at the end P1. This is an important feature we can use."
   ]
  },
  {
   "cell_type": "code",
   "execution_count": 11,
   "id": "24294f7d",
   "metadata": {},
   "outputs": [
    {
     "data": {
      "text/plain": [
       "<seaborn.axisgrid.FacetGrid at 0x1bee24ef150>"
      ]
     },
     "execution_count": 11,
     "metadata": {},
     "output_type": "execute_result"
    },
    {
     "data": {
      "image/png": "[encoded data removed]",
      "text/plain": [
       "<Figure size 600x300 with 2 Axes>"
      ]
     },
     "metadata": {},
     "output_type": "display_data"
    }
   ],
   "source": [
    "g = sns.FacetGrid(train_df, col='Survived')\n",
    "g.map(plt.hist, 'Age',bins=20)"
   ]
  },
  {
   "cell_type": "markdown",
   "id": "ba93cb9d",
   "metadata": {},
   "source": [
    "Infants and old people has higher survival rate. Young people between(16,38) has lower survival rate compared to the prvious groups. There is relation between age and survival. "
   ]
  },
  {
   "cell_type": "code",
   "execution_count": 12,
   "id": "5f94001f",
   "metadata": {},
   "outputs": [
    {
     "data": {
      "text/plain": [
       "<seaborn.axisgrid.FacetGrid at 0x1bee1e59390>"
      ]
     },
     "execution_count": 12,
     "metadata": {},
     "output_type": "execute_result"
    },
    {
     "data": {
      "image/png": "[encoded data removed]",
      "text/plain": [
       "<Figure size 600x300 with 2 Axes>"
      ]
     },
     "metadata": {},
     "output_type": "display_data"
    }
   ],
   "source": [
    "g = sns.FacetGrid(train_df, col='Survived')\n",
    "g.map(plt.hist, 'Sex')"
   ]
  },
  {
   "cell_type": "code",
   "execution_count": 13,
   "id": "1a3d0577",
   "metadata": {},
   "outputs": [
    {
     "data": {
      "text/html": [
       "<div>\n",
       "<style scoped>\n",
       "    .dataframe tbody tr th:only-of-type {\n",
       "        vertical-align: middle;\n",
       "    }\n",
       "\n",
       "    .dataframe tbody tr th {\n",
       "        vertical-align: top;\n",
       "    }\n",
       "\n",
       "    .dataframe thead th {\n",
       "        text-align: right;\n",
       "    }\n",
       "</style>\n",
       "<table border=\"1\" class=\"dataframe\">\n",
       "  <thead>\n",
       "    <tr style=\"text-align: right;\">\n",
       "      <th></th>\n",
       "      <th>Sex</th>\n",
       "      <th>Survived</th>\n",
       "    </tr>\n",
       "  </thead>\n",
       "  <tbody>\n",
       "    <tr>\n",
       "      <th>0</th>\n",
       "      <td>female</td>\n",
       "      <td>0.742038</td>\n",
       "    </tr>\n",
       "    <tr>\n",
       "      <th>1</th>\n",
       "      <td>male</td>\n",
       "      <td>0.188908</td>\n",
       "    </tr>\n",
       "  </tbody>\n",
       "</table>\n",
       "</div>"
      ],
      "text/plain": [
       "      Sex  Survived\n",
       "0  female  0.742038\n",
       "1    male  0.188908"
      ]
     },
     "execution_count": 13,
     "metadata": {},
     "output_type": "execute_result"
    }
   ],
   "source": [
    "train_df[['Survived','Sex']].groupby(['Sex'],as_index=False).mean().sort_values(by='Survived',ascending=False)"
   ]
  },
  {
   "cell_type": "markdown",
   "id": "5dd97dbb",
   "metadata": {},
   "source": [
    "We can see that female has much higher survival rate. There is a strong relation between Sex and survival. It seems reasonable to exist a relation between Pclass and Age(when you are young, you don't have that much money). "
   ]
  },
  {
   "cell_type": "code",
   "execution_count": 14,
   "id": "6b0e546f",
   "metadata": {},
   "outputs": [
    {
     "data": {
      "text/plain": [
       "<seaborn.axisgrid.FacetGrid at 0x1bee22cf910>"
      ]
     },
     "execution_count": 14,
     "metadata": {},
     "output_type": "execute_result"
    },
    {
     "data": {
      "image/png": "[encoded data removed]",
      "text/plain": [
       "<Figure size 900x300 with 3 Axes>"
      ]
     },
     "metadata": {},
     "output_type": "display_data"
    }
   ],
   "source": [
    "g = sns.FacetGrid(train_df, col='Pclass')\n",
    "g.map(plt.hist, 'Age',bins=10)"
   ]
  },
  {
   "cell_type": "code",
   "execution_count": 15,
   "id": "412a8e86",
   "metadata": {},
   "outputs": [
    {
     "data": {
      "text/plain": [
       "<seaborn.axisgrid.FacetGrid at 0x1bee229d950>"
      ]
     },
     "execution_count": 15,
     "metadata": {},
     "output_type": "execute_result"
    },
    {
     "data": {
      "image/png": "[encoded data removed]",
      "text/plain": [
       "<Figure size 600x300 with 2 Axes>"
      ]
     },
     "metadata": {},
     "output_type": "display_data"
    }
   ],
   "source": [
    "g = sns.FacetGrid(train_df, col='Sex')\n",
    "g.map(plt.hist, 'Age',bins=10)"
   ]
  },
  {
   "cell_type": "code",
   "execution_count": 16,
   "id": "04fb4390",
   "metadata": {},
   "outputs": [
    {
     "data": {
      "text/html": [
       "<div>\n",
       "<style scoped>\n",
       "    .dataframe tbody tr th:only-of-type {\n",
       "        vertical-align: middle;\n",
       "    }\n",
       "\n",
       "    .dataframe tbody tr th {\n",
       "        vertical-align: top;\n",
       "    }\n",
       "\n",
       "    .dataframe thead th {\n",
       "        text-align: right;\n",
       "    }\n",
       "</style>\n",
       "<table border=\"1\" class=\"dataframe\">\n",
       "  <thead>\n",
       "    <tr style=\"text-align: right;\">\n",
       "      <th></th>\n",
       "      <th>Pclass</th>\n",
       "      <th>Age</th>\n",
       "    </tr>\n",
       "  </thead>\n",
       "  <tbody>\n",
       "    <tr>\n",
       "      <th>0</th>\n",
       "      <td>1</td>\n",
       "      <td>38.233441</td>\n",
       "    </tr>\n",
       "    <tr>\n",
       "      <th>1</th>\n",
       "      <td>2</td>\n",
       "      <td>29.877630</td>\n",
       "    </tr>\n",
       "    <tr>\n",
       "      <th>2</th>\n",
       "      <td>3</td>\n",
       "      <td>25.140620</td>\n",
       "    </tr>\n",
       "  </tbody>\n",
       "</table>\n",
       "</div>"
      ],
      "text/plain": [
       "   Pclass        Age\n",
       "0       1  38.233441\n",
       "1       2  29.877630\n",
       "2       3  25.140620"
      ]
     },
     "execution_count": 16,
     "metadata": {},
     "output_type": "execute_result"
    }
   ],
   "source": [
    "train_df[['Pclass','Age']].groupby(['Pclass'],as_index=False).mean()"
   ]
  },
  {
   "cell_type": "code",
   "execution_count": 17,
   "id": "5196dddc",
   "metadata": {},
   "outputs": [
    {
     "data": {
      "text/html": [
       "<div>\n",
       "<style scoped>\n",
       "    .dataframe tbody tr th:only-of-type {\n",
       "        vertical-align: middle;\n",
       "    }\n",
       "\n",
       "    .dataframe tbody tr th {\n",
       "        vertical-align: top;\n",
       "    }\n",
       "\n",
       "    .dataframe thead th {\n",
       "        text-align: right;\n",
       "    }\n",
       "</style>\n",
       "<table border=\"1\" class=\"dataframe\">\n",
       "  <thead>\n",
       "    <tr style=\"text-align: right;\">\n",
       "      <th></th>\n",
       "      <th>Sex</th>\n",
       "      <th>Age</th>\n",
       "    </tr>\n",
       "  </thead>\n",
       "  <tbody>\n",
       "    <tr>\n",
       "      <th>0</th>\n",
       "      <td>female</td>\n",
       "      <td>27.915709</td>\n",
       "    </tr>\n",
       "    <tr>\n",
       "      <th>1</th>\n",
       "      <td>male</td>\n",
       "      <td>30.726645</td>\n",
       "    </tr>\n",
       "  </tbody>\n",
       "</table>\n",
       "</div>"
      ],
      "text/plain": [
       "      Sex        Age\n",
       "0  female  27.915709\n",
       "1    male  30.726645"
      ]
     },
     "execution_count": 17,
     "metadata": {},
     "output_type": "execute_result"
    }
   ],
   "source": [
    "train_df[['Sex','Age']].groupby(['Sex'],as_index=False).mean()"
   ]
  },
  {
   "cell_type": "markdown",
   "id": "16711063",
   "metadata": {},
   "source": [
    "Age,Sex,Pclass are correlated with survival(highly related). They are also correlated with each other as we can see from figures. First option is filling the age with the mean of whole training set, but it is more accurate to fill it by mean of each Pclass considering that females has lower mean. So we can group passengers by Pclass(3 groups).\n",
    "Also each group could be divied to 2 parts(Male, Female). Then we can get the mean of each subgroup(6 mean), and fill the NaN values of age using them."
   ]
  },
  {
   "cell_type": "markdown",
   "id": "e30d331c",
   "metadata": {},
   "source": [
    "Ticket numbers and PassengerId are not that much helpful, it's better to drop them. "
   ]
  },
  {
   "cell_type": "code",
   "execution_count": 18,
   "id": "b41ff0fd",
   "metadata": {},
   "outputs": [],
   "source": [
    "train_df.drop([\"Ticket\"],inplace= True, axis=1)\n",
    "test_df.drop([\"Ticket\"],inplace= True, axis=1)"
   ]
  },
  {
   "cell_type": "markdown",
   "id": "493f4f4d",
   "metadata": {},
   "source": [
    "Name feature has some Titles. These titles are usefull just like Pclass because they show that a person belongs to which social class. Maybe there are some passengers who are important people for country and they should be saved. This new feature(Title) contains the information related to the importance of people. Also, the new feature is correlated to sex. So, we expect Female titles have higher survival rate\n"
   ]
  },
  {
   "cell_type": "code",
   "execution_count": 19,
   "id": "63215cfa",
   "metadata": {},
   "outputs": [],
   "source": [
    "train_df[\"Title\"] = train_df.loc[:,[\"Name\"]].applymap(lambda x: str.strip(x.split(\",\")[1].split(\" \")[1]))\n",
    "test_df[\"Title\"] = test_df.loc[:,[\"Name\"]].applymap(lambda x: str.strip(x.split(\",\")[1].split(\" \")[1]))"
   ]
  },
  {
   "cell_type": "code",
   "execution_count": 20,
   "id": "f043f808",
   "metadata": {},
   "outputs": [
    {
     "data": {
      "text/plain": [
       "Mr.          517\n",
       "Miss.        182\n",
       "Mrs.         125\n",
       "Master.       40\n",
       "Dr.            7\n",
       "Rev.           6\n",
       "Mlle.          2\n",
       "Major.         2\n",
       "Col.           2\n",
       "the            1\n",
       "Capt.          1\n",
       "Ms.            1\n",
       "Sir.           1\n",
       "Lady.          1\n",
       "Mme.           1\n",
       "Don.           1\n",
       "Jonkheer.      1\n",
       "Name: Title, dtype: int64"
      ]
     },
     "execution_count": 20,
     "metadata": {},
     "output_type": "execute_result"
    }
   ],
   "source": [
    "train_df[\"Title\"].value_counts()"
   ]
  },
  {
   "cell_type": "code",
   "execution_count": 21,
   "id": "2041d803",
   "metadata": {},
   "outputs": [],
   "source": [
    "train_df['Title'].replace(to_replace = ['Lady.', 'Countess.','Capt.', 'Col.','Don.', 'Dr.', 'Major.', 'Rev.', 'Sir.', 'Jonkheer.', 'Dona.','the'], value ='Other.',inplace=True)\n",
    "train_df['Title'].replace(to_replace = 'Mlle.',value='Miss.',inplace=True)\n",
    "train_df['Title'].replace(to_replace = 'Ms.',value='Miss.',inplace=True)\n",
    "train_df['Title'].replace(to_replace = 'Mme.',value='Miss.',inplace=True)\n",
    "test_df['Title'].replace(to_replace = ['Lady.', 'Countess.','Capt.', 'Col.','Don.', 'Dr.', 'Major.', 'Rev.', 'Sir.', 'Jonkheer.', 'Dona.','the'], value ='Other.',inplace=True)\n",
    "test_df['Title'].replace(to_replace = 'Mlle.',value='Miss.',inplace=True)\n",
    "test_df['Title'].replace(to_replace = 'Ms.',value='Miss.',inplace=True)\n",
    "test_df['Title'].replace(to_replace = 'Mme.',value='Miss.',inplace=True)"
   ]
  },
  {
   "cell_type": "code",
   "execution_count": 22,
   "id": "1adc03e6",
   "metadata": {},
   "outputs": [
    {
     "data": {
      "text/plain": [
       "Mr.        517\n",
       "Miss.      186\n",
       "Mrs.       125\n",
       "Master.     40\n",
       "Other.      23\n",
       "Name: Title, dtype: int64"
      ]
     },
     "execution_count": 22,
     "metadata": {},
     "output_type": "execute_result"
    }
   ],
   "source": [
    "train_df[\"Title\"].value_counts()"
   ]
  },
  {
   "cell_type": "code",
   "execution_count": 23,
   "id": "c92a7e97",
   "metadata": {
    "scrolled": true
   },
   "outputs": [
    {
     "data": {
      "text/html": [
       "<div>\n",
       "<style scoped>\n",
       "    .dataframe tbody tr th:only-of-type {\n",
       "        vertical-align: middle;\n",
       "    }\n",
       "\n",
       "    .dataframe tbody tr th {\n",
       "        vertical-align: top;\n",
       "    }\n",
       "\n",
       "    .dataframe thead th {\n",
       "        text-align: right;\n",
       "    }\n",
       "</style>\n",
       "<table border=\"1\" class=\"dataframe\">\n",
       "  <thead>\n",
       "    <tr style=\"text-align: right;\">\n",
       "      <th></th>\n",
       "      <th>Title</th>\n",
       "      <th>Survived</th>\n",
       "    </tr>\n",
       "  </thead>\n",
       "  <tbody>\n",
       "    <tr>\n",
       "      <th>2</th>\n",
       "      <td>Mr.</td>\n",
       "      <td>0.156673</td>\n",
       "    </tr>\n",
       "    <tr>\n",
       "      <th>4</th>\n",
       "      <td>Other.</td>\n",
       "      <td>0.347826</td>\n",
       "    </tr>\n",
       "    <tr>\n",
       "      <th>0</th>\n",
       "      <td>Master.</td>\n",
       "      <td>0.575000</td>\n",
       "    </tr>\n",
       "    <tr>\n",
       "      <th>1</th>\n",
       "      <td>Miss.</td>\n",
       "      <td>0.704301</td>\n",
       "    </tr>\n",
       "    <tr>\n",
       "      <th>3</th>\n",
       "      <td>Mrs.</td>\n",
       "      <td>0.792000</td>\n",
       "    </tr>\n",
       "  </tbody>\n",
       "</table>\n",
       "</div>"
      ],
      "text/plain": [
       "     Title  Survived\n",
       "2      Mr.  0.156673\n",
       "4   Other.  0.347826\n",
       "0  Master.  0.575000\n",
       "1    Miss.  0.704301\n",
       "3     Mrs.  0.792000"
      ]
     },
     "execution_count": 23,
     "metadata": {},
     "output_type": "execute_result"
    }
   ],
   "source": [
    "train_df[['Title', 'Survived']].groupby(['Title'], as_index=False).mean().sort_values(by='Survived')"
   ]
  },
  {
   "cell_type": "markdown",
   "id": "ef8c3475",
   "metadata": {},
   "source": [
    "The new feature(Title) shows that there is correlation here with survival rate. we keep this feature"
   ]
  },
  {
   "cell_type": "code",
   "execution_count": 24,
   "id": "bad737d2",
   "metadata": {},
   "outputs": [],
   "source": [
    "train_df[\"Title\"] = train_df['Title'].map({'Mr.':1,'Other.':2,'Master.':3,'Miss.':4,'Mrs.':5})\n",
    "test_df[\"Title\"] = test_df['Title'].map({'Mr.':1,'Other.':2,'Master.':3,'Miss.':4,'Mrs.':5})"
   ]
  },
  {
   "cell_type": "code",
   "execution_count": 25,
   "id": "5204fb2b",
   "metadata": {},
   "outputs": [],
   "source": [
    "train_df['Sex'] = train_df['Sex'].map( {'male': 1, 'female': 0} )\n",
    "test_df['Sex'] = test_df['Sex'].map( {'male': 1, 'female': 0} )"
   ]
  },
  {
   "cell_type": "markdown",
   "id": "785a41c1",
   "metadata": {},
   "source": [
    "We don't need the Name feature anymore, so we drop it."
   ]
  },
  {
   "cell_type": "code",
   "execution_count": 26,
   "id": "208fee96",
   "metadata": {},
   "outputs": [],
   "source": [
    "train_df.drop([\"Name\"],inplace= True, axis=1)\n",
    "test_df.drop([\"Name\"],inplace= True, axis=1)"
   ]
  },
  {
   "cell_type": "markdown",
   "id": "12146094",
   "metadata": {},
   "source": [
    "We can start to fill NaN values now."
   ]
  },
  {
   "cell_type": "code",
   "execution_count": 27,
   "id": "3db330fc",
   "metadata": {},
   "outputs": [],
   "source": [
    "age_mean = train_df[[\"Pclass\",\"Sex\",\"Age\"]].groupby([\"Pclass\",\"Sex\"],as_index=False).mean()"
   ]
  },
  {
   "cell_type": "code",
   "execution_count": 28,
   "id": "5f805e8d",
   "metadata": {},
   "outputs": [
    {
     "data": {
      "text/html": [
       "<div>\n",
       "<style scoped>\n",
       "    .dataframe tbody tr th:only-of-type {\n",
       "        vertical-align: middle;\n",
       "    }\n",
       "\n",
       "    .dataframe tbody tr th {\n",
       "        vertical-align: top;\n",
       "    }\n",
       "\n",
       "    .dataframe thead th {\n",
       "        text-align: right;\n",
       "    }\n",
       "</style>\n",
       "<table border=\"1\" class=\"dataframe\">\n",
       "  <thead>\n",
       "    <tr style=\"text-align: right;\">\n",
       "      <th></th>\n",
       "      <th>Pclass</th>\n",
       "      <th>Sex</th>\n",
       "      <th>Age</th>\n",
       "    </tr>\n",
       "  </thead>\n",
       "  <tbody>\n",
       "    <tr>\n",
       "      <th>0</th>\n",
       "      <td>1</td>\n",
       "      <td>0</td>\n",
       "      <td>34.611765</td>\n",
       "    </tr>\n",
       "    <tr>\n",
       "      <th>1</th>\n",
       "      <td>1</td>\n",
       "      <td>1</td>\n",
       "      <td>41.281386</td>\n",
       "    </tr>\n",
       "    <tr>\n",
       "      <th>2</th>\n",
       "      <td>2</td>\n",
       "      <td>0</td>\n",
       "      <td>28.722973</td>\n",
       "    </tr>\n",
       "    <tr>\n",
       "      <th>3</th>\n",
       "      <td>2</td>\n",
       "      <td>1</td>\n",
       "      <td>30.740707</td>\n",
       "    </tr>\n",
       "    <tr>\n",
       "      <th>4</th>\n",
       "      <td>3</td>\n",
       "      <td>0</td>\n",
       "      <td>21.750000</td>\n",
       "    </tr>\n",
       "    <tr>\n",
       "      <th>5</th>\n",
       "      <td>3</td>\n",
       "      <td>1</td>\n",
       "      <td>26.507589</td>\n",
       "    </tr>\n",
       "  </tbody>\n",
       "</table>\n",
       "</div>"
      ],
      "text/plain": [
       "   Pclass  Sex        Age\n",
       "0       1    0  34.611765\n",
       "1       1    1  41.281386\n",
       "2       2    0  28.722973\n",
       "3       2    1  30.740707\n",
       "4       3    0  21.750000\n",
       "5       3    1  26.507589"
      ]
     },
     "execution_count": 28,
     "metadata": {},
     "output_type": "execute_result"
    }
   ],
   "source": [
    "age_mean"
   ]
  },
  {
   "cell_type": "code",
   "execution_count": 29,
   "id": "35ad3f65",
   "metadata": {},
   "outputs": [],
   "source": [
    "for i in range(0, 3):\n",
    "    for j in range(0, 2):\n",
    "        train_df.loc[ (train_df[\"Age\"].isnull()) & (train_df[\"Sex\"] == j) & (train_df[\"Pclass\"] == i+1),'Age'] = \\\n",
    "        age_mean.loc[(age_mean[\"Pclass\"]== i+1) & (age_mean[\"Sex\"]== j),\"Age\"].astype(int).values[0]"
   ]
  },
  {
   "cell_type": "code",
   "execution_count": 30,
   "id": "039110e0",
   "metadata": {},
   "outputs": [],
   "source": [
    "for i in range(0, 3):\n",
    "    for j in range(0, 2):\n",
    "        test_df.loc[ (test_df[\"Age\"].isnull()) & (test_df[\"Sex\"] == j) & (test_df[\"Pclass\"] == i+1),'Age'] = \\\n",
    "        age_mean.loc[(age_mean[\"Pclass\"]== i+1) & (age_mean[\"Sex\"]== j),\"Age\"].astype(int).values[0]\n"
   ]
  },
  {
   "cell_type": "code",
   "execution_count": 31,
   "id": "80e2fd15",
   "metadata": {},
   "outputs": [],
   "source": [
    "#train_df['Age'].fillna(train_df['Age'].mean(), inplace=True)\n",
    "\n",
    "#test_df['Age'].fillna(train_df['Age'].mean(), inplace=True)"
   ]
  },
  {
   "cell_type": "markdown",
   "id": "ed7bf2b4",
   "metadata": {},
   "source": [
    "It is reasonable to convert age(numerical continues) to a categorial feature(ordinal) using binning method. Because Age itself does not matter, but the group of people who are in a specefic range(infant, child, young, old) is more reasonable. It also introduce some noise to our model to avoid overfitting.\n"
   ]
  },
  {
   "cell_type": "code",
   "execution_count": 32,
   "id": "bf1f6e5d",
   "metadata": {},
   "outputs": [
    {
     "data": {
      "text/plain": [
       "PassengerId\n",
       "1      (16.336, 32.252]\n",
       "2      (32.252, 48.168]\n",
       "3      (16.336, 32.252]\n",
       "4      (32.252, 48.168]\n",
       "5      (32.252, 48.168]\n",
       "             ...       \n",
       "887    (16.336, 32.252]\n",
       "888    (16.336, 32.252]\n",
       "889    (16.336, 32.252]\n",
       "890    (16.336, 32.252]\n",
       "891    (16.336, 32.252]\n",
       "Name: Age, Length: 891, dtype: category\n",
       "Categories (5, interval[float64, right]): [(0.34, 16.336] < (16.336, 32.252] < (32.252, 48.168] < (48.168, 64.084] < (64.084, 80.0]]"
      ]
     },
     "execution_count": 32,
     "metadata": {},
     "output_type": "execute_result"
    }
   ],
   "source": [
    "pd.cut(train_df['Age'], 5)"
   ]
  },
  {
   "cell_type": "code",
   "execution_count": 33,
   "id": "820475e1",
   "metadata": {},
   "outputs": [],
   "source": [
    "train_df.loc[ train_df['Age'] <= 16, 'Age'] = 0\n",
    "train_df.loc[(train_df['Age'] > 16) & (train_df['Age'] <= 32), 'Age'] = 1\n",
    "train_df.loc[(train_df['Age'] > 32) & (train_df['Age'] <= 48), 'Age'] = 2\n",
    "train_df.loc[(train_df['Age'] > 48) & (train_df['Age'] <= 64), 'Age'] = 3\n",
    "train_df.loc[ train_df['Age'] > 64, 'Age'] = 4"
   ]
  },
  {
   "cell_type": "code",
   "execution_count": 34,
   "id": "c65943a1",
   "metadata": {},
   "outputs": [],
   "source": [
    "train_df[\"Age\"] = train_df[\"Age\"].astype(int)"
   ]
  },
  {
   "cell_type": "code",
   "execution_count": 35,
   "id": "060562e0",
   "metadata": {},
   "outputs": [],
   "source": [
    "test_df.loc[ test_df['Age'] <= 16, 'Age'] = 0\n",
    "test_df.loc[(test_df['Age'] > 16) & (test_df['Age'] <= 32), 'Age'] = 1\n",
    "test_df.loc[(test_df['Age'] > 32) & (test_df['Age'] <= 48), 'Age'] = 2\n",
    "test_df.loc[(test_df['Age'] > 48) & (test_df['Age'] <= 64), 'Age'] = 3\n",
    "test_df.loc[ test_df['Age'] > 64, 'Age'] = 4"
   ]
  },
  {
   "cell_type": "markdown",
   "id": "725f2c47",
   "metadata": {},
   "source": [
    "For the cabin missing values let's fill them with a new category (x). then we check if there is a correlation between this cabin feature with survival rate or not. If there is not correlation drop it because of a lot of missing values. We just keep the first letter of Cabin because the rest of the Cabin name is just number of the room."
   ]
  },
  {
   "cell_type": "code",
   "execution_count": 36,
   "id": "f8ab0cd7",
   "metadata": {},
   "outputs": [],
   "source": [
    "train_df[\"Cabin\"] = train_df[\"Cabin\"].fillna(\"X\")\n",
    "test_df[\"Cabin\"] = test_df[\"Cabin\"].fillna(\"X\")"
   ]
  },
  {
   "cell_type": "code",
   "execution_count": 37,
   "id": "918b7e49",
   "metadata": {},
   "outputs": [],
   "source": [
    "train_df[\"Cabin\"] = train_df.loc[:,[\"Cabin\"]].applymap(lambda x: str(x)[0])\n",
    "test_df[\"Cabin\"] = test_df.loc[:,[\"Cabin\"]].applymap(lambda x: str(x)[0])"
   ]
  },
  {
   "cell_type": "code",
   "execution_count": 38,
   "id": "9ca57b95",
   "metadata": {},
   "outputs": [
    {
     "data": {
      "text/plain": [
       "<seaborn.axisgrid.FacetGrid at 0x1bedfdc7a50>"
      ]
     },
     "execution_count": 38,
     "metadata": {},
     "output_type": "execute_result"
    },
    {
     "data": {
      "image/png": "[encoded data removed]",
      "text/plain": [
       "<Figure size 600x300 with 2 Axes>"
      ]
     },
     "metadata": {},
     "output_type": "display_data"
    }
   ],
   "source": [
    "g = sns.FacetGrid(train_df, col='Survived')\n",
    "g.map(plt.hist, 'Cabin')"
   ]
  },
  {
   "cell_type": "markdown",
   "id": "5e663567",
   "metadata": {},
   "source": [
    "As we can see there is a correlation here and we can keep it."
   ]
  },
  {
   "cell_type": "code",
   "execution_count": 39,
   "id": "82a2581a",
   "metadata": {},
   "outputs": [
    {
     "data": {
      "text/html": [
       "<div>\n",
       "<style scoped>\n",
       "    .dataframe tbody tr th:only-of-type {\n",
       "        vertical-align: middle;\n",
       "    }\n",
       "\n",
       "    .dataframe tbody tr th {\n",
       "        vertical-align: top;\n",
       "    }\n",
       "\n",
       "    .dataframe thead th {\n",
       "        text-align: right;\n",
       "    }\n",
       "</style>\n",
       "<table border=\"1\" class=\"dataframe\">\n",
       "  <thead>\n",
       "    <tr style=\"text-align: right;\">\n",
       "      <th></th>\n",
       "      <th>Cabin</th>\n",
       "      <th>Survived</th>\n",
       "    </tr>\n",
       "  </thead>\n",
       "  <tbody>\n",
       "    <tr>\n",
       "      <th>3</th>\n",
       "      <td>D</td>\n",
       "      <td>0.757576</td>\n",
       "    </tr>\n",
       "    <tr>\n",
       "      <th>4</th>\n",
       "      <td>E</td>\n",
       "      <td>0.750000</td>\n",
       "    </tr>\n",
       "    <tr>\n",
       "      <th>1</th>\n",
       "      <td>B</td>\n",
       "      <td>0.744681</td>\n",
       "    </tr>\n",
       "    <tr>\n",
       "      <th>5</th>\n",
       "      <td>F</td>\n",
       "      <td>0.615385</td>\n",
       "    </tr>\n",
       "    <tr>\n",
       "      <th>2</th>\n",
       "      <td>C</td>\n",
       "      <td>0.593220</td>\n",
       "    </tr>\n",
       "    <tr>\n",
       "      <th>6</th>\n",
       "      <td>G</td>\n",
       "      <td>0.500000</td>\n",
       "    </tr>\n",
       "    <tr>\n",
       "      <th>0</th>\n",
       "      <td>A</td>\n",
       "      <td>0.466667</td>\n",
       "    </tr>\n",
       "    <tr>\n",
       "      <th>8</th>\n",
       "      <td>X</td>\n",
       "      <td>0.299854</td>\n",
       "    </tr>\n",
       "    <tr>\n",
       "      <th>7</th>\n",
       "      <td>T</td>\n",
       "      <td>0.000000</td>\n",
       "    </tr>\n",
       "  </tbody>\n",
       "</table>\n",
       "</div>"
      ],
      "text/plain": [
       "  Cabin  Survived\n",
       "3     D  0.757576\n",
       "4     E  0.750000\n",
       "1     B  0.744681\n",
       "5     F  0.615385\n",
       "2     C  0.593220\n",
       "6     G  0.500000\n",
       "0     A  0.466667\n",
       "8     X  0.299854\n",
       "7     T  0.000000"
      ]
     },
     "execution_count": 39,
     "metadata": {},
     "output_type": "execute_result"
    }
   ],
   "source": [
    "train_df[['Cabin','Survived']].groupby(['Cabin'],as_index=False).mean().sort_values(by='Survived',ascending=False)"
   ]
  },
  {
   "cell_type": "code",
   "execution_count": 40,
   "id": "213694c1",
   "metadata": {},
   "outputs": [],
   "source": [
    "train_df[\"Cabin\"] = train_df['Cabin'].map({'D':1,'E':2,'B':3,'F':4,'C':5,'G':6,'A':7,'X':8,'T':9})\n",
    "test_df[\"Cabin\"] = test_df['Cabin'].map({'D':1,'E':2,'B':3,'F':4,'C':5,'G':6,'A':7,'X':8,'T':9})\n",
    "scaler = StandardScaler()\n",
    "train_df[\"Cabin\"] = scaler.fit_transform(train_df[[\"Cabin\"]])"
   ]
  },
  {
   "cell_type": "markdown",
   "id": "449a8854",
   "metadata": {},
   "source": [
    "For the Embarked feature we checked and both of the missing values are from pclass 1. we fill these two missing values with the mode of Pclass 1 which is S."
   ]
  },
  {
   "cell_type": "code",
   "execution_count": 41,
   "id": "7dfe809e",
   "metadata": {},
   "outputs": [
    {
     "data": {
      "text/plain": [
       "0    S\n",
       "Name: Embarked, dtype: object"
      ]
     },
     "execution_count": 41,
     "metadata": {},
     "output_type": "execute_result"
    }
   ],
   "source": [
    "train_df.loc[ (train_df[\"Pclass\"] == 1),\"Embarked\"].mode()"
   ]
  },
  {
   "cell_type": "code",
   "execution_count": 42,
   "id": "12151e41",
   "metadata": {},
   "outputs": [],
   "source": [
    "train_df[\"Embarked\"] = train_df[\"Embarked\"].fillna(\"S\")"
   ]
  },
  {
   "cell_type": "code",
   "execution_count": 43,
   "id": "2fb38494",
   "metadata": {},
   "outputs": [
    {
     "data": {
      "text/html": [
       "<div>\n",
       "<style scoped>\n",
       "    .dataframe tbody tr th:only-of-type {\n",
       "        vertical-align: middle;\n",
       "    }\n",
       "\n",
       "    .dataframe tbody tr th {\n",
       "        vertical-align: top;\n",
       "    }\n",
       "\n",
       "    .dataframe thead th {\n",
       "        text-align: right;\n",
       "    }\n",
       "</style>\n",
       "<table border=\"1\" class=\"dataframe\">\n",
       "  <thead>\n",
       "    <tr style=\"text-align: right;\">\n",
       "      <th></th>\n",
       "      <th>Embarked</th>\n",
       "      <th>Survived</th>\n",
       "    </tr>\n",
       "  </thead>\n",
       "  <tbody>\n",
       "    <tr>\n",
       "      <th>0</th>\n",
       "      <td>C</td>\n",
       "      <td>0.553571</td>\n",
       "    </tr>\n",
       "    <tr>\n",
       "      <th>1</th>\n",
       "      <td>Q</td>\n",
       "      <td>0.389610</td>\n",
       "    </tr>\n",
       "    <tr>\n",
       "      <th>2</th>\n",
       "      <td>S</td>\n",
       "      <td>0.339009</td>\n",
       "    </tr>\n",
       "  </tbody>\n",
       "</table>\n",
       "</div>"
      ],
      "text/plain": [
       "  Embarked  Survived\n",
       "0        C  0.553571\n",
       "1        Q  0.389610\n",
       "2        S  0.339009"
      ]
     },
     "execution_count": 43,
     "metadata": {},
     "output_type": "execute_result"
    }
   ],
   "source": [
    "train_df[['Embarked','Survived']].groupby(['Embarked'],as_index=False).mean().sort_values(by='Survived',ascending=False)"
   ]
  },
  {
   "cell_type": "code",
   "execution_count": 44,
   "id": "3cc3b668",
   "metadata": {},
   "outputs": [],
   "source": [
    "train_df[\"Embarked\"] = train_df['Embarked'].map({'C':1,'Q':2,'S':3})\n",
    "test_df[\"Embarked\"] = test_df['Embarked'].map({'C':1,'Q':2,'S':3})"
   ]
  },
  {
   "cell_type": "markdown",
   "id": "e0d12e11",
   "metadata": {},
   "source": [
    "now only one Fare value is missing from test dataset. we check that person is from pclass = 3. so we fill it by mode of that class"
   ]
  },
  {
   "cell_type": "code",
   "execution_count": 45,
   "id": "0c231ee4",
   "metadata": {},
   "outputs": [
    {
     "data": {
      "text/html": [
       "<div>\n",
       "<style scoped>\n",
       "    .dataframe tbody tr th:only-of-type {\n",
       "        vertical-align: middle;\n",
       "    }\n",
       "\n",
       "    .dataframe tbody tr th {\n",
       "        vertical-align: top;\n",
       "    }\n",
       "\n",
       "    .dataframe thead th {\n",
       "        text-align: right;\n",
       "    }\n",
       "</style>\n",
       "<table border=\"1\" class=\"dataframe\">\n",
       "  <thead>\n",
       "    <tr style=\"text-align: right;\">\n",
       "      <th></th>\n",
       "      <th>Pclass</th>\n",
       "      <th>Sex</th>\n",
       "      <th>Age</th>\n",
       "      <th>SibSp</th>\n",
       "      <th>Parch</th>\n",
       "      <th>Fare</th>\n",
       "      <th>Cabin</th>\n",
       "      <th>Embarked</th>\n",
       "      <th>Title</th>\n",
       "    </tr>\n",
       "    <tr>\n",
       "      <th>PassengerId</th>\n",
       "      <th></th>\n",
       "      <th></th>\n",
       "      <th></th>\n",
       "      <th></th>\n",
       "      <th></th>\n",
       "      <th></th>\n",
       "      <th></th>\n",
       "      <th></th>\n",
       "      <th></th>\n",
       "    </tr>\n",
       "  </thead>\n",
       "  <tbody>\n",
       "    <tr>\n",
       "      <th>1044</th>\n",
       "      <td>3</td>\n",
       "      <td>1</td>\n",
       "      <td>3.0</td>\n",
       "      <td>0</td>\n",
       "      <td>0</td>\n",
       "      <td>NaN</td>\n",
       "      <td>8</td>\n",
       "      <td>3</td>\n",
       "      <td>1</td>\n",
       "    </tr>\n",
       "  </tbody>\n",
       "</table>\n",
       "</div>"
      ],
      "text/plain": [
       "             Pclass  Sex  Age  SibSp  Parch  Fare  Cabin  Embarked  Title\n",
       "PassengerId                                                              \n",
       "1044              3    1  3.0      0      0   NaN      8         3      1"
      ]
     },
     "execution_count": 45,
     "metadata": {},
     "output_type": "execute_result"
    }
   ],
   "source": [
    "test_df[test_df[\"Fare\"].isnull()]"
   ]
  },
  {
   "cell_type": "code",
   "execution_count": 46,
   "id": "d09286a7",
   "metadata": {},
   "outputs": [
    {
     "data": {
      "text/plain": [
       "0    8.05\n",
       "Name: Fare, dtype: float64"
      ]
     },
     "execution_count": 46,
     "metadata": {},
     "output_type": "execute_result"
    }
   ],
   "source": [
    "train_df.loc[ (train_df[\"Pclass\"] == 3),\"Fare\"].mode()"
   ]
  },
  {
   "cell_type": "code",
   "execution_count": 47,
   "id": "6918e921",
   "metadata": {},
   "outputs": [],
   "source": [
    "test_df[test_df[\"Fare\"].isnull()] = 8.05"
   ]
  },
  {
   "cell_type": "markdown",
   "id": "034c510b",
   "metadata": {},
   "source": [
    "Let's work on the fare feature now."
   ]
  },
  {
   "cell_type": "code",
   "execution_count": 48,
   "id": "6f75e538",
   "metadata": {},
   "outputs": [
    {
     "data": {
      "text/plain": [
       "<seaborn.axisgrid.FacetGrid at 0x1bee1e581d0>"
      ]
     },
     "execution_count": 48,
     "metadata": {},
     "output_type": "execute_result"
    },
    {
     "data": {
      "image/png": "[encoded data removed]",
      "text/plain": [
       "<Figure size 600x300 with 2 Axes>"
      ]
     },
     "metadata": {},
     "output_type": "display_data"
    }
   ],
   "source": [
    "g = sns.FacetGrid(train_df, col='Survived')\n",
    "g.map(plt.hist, 'Fare',bins=10)"
   ]
  },
  {
   "cell_type": "code",
   "execution_count": 49,
   "id": "f5128348",
   "metadata": {},
   "outputs": [],
   "source": [
    "df = pd.concat([train_df, test_df],sort=True)\n",
    "df['Fare'] = pd.qcut(df['Fare'], 10)"
   ]
  },
  {
   "cell_type": "code",
   "execution_count": 50,
   "id": "1528e8d8",
   "metadata": {},
   "outputs": [],
   "source": [
    "train_df = pd.DataFrame(df.iloc[:891])\n",
    "test_df = pd.DataFrame(df.iloc[891:])"
   ]
  },
  {
   "cell_type": "code",
   "execution_count": 51,
   "id": "fe3bc33b",
   "metadata": {},
   "outputs": [
    {
     "data": {
      "text/html": [
       "<div>\n",
       "<style scoped>\n",
       "    .dataframe tbody tr th:only-of-type {\n",
       "        vertical-align: middle;\n",
       "    }\n",
       "\n",
       "    .dataframe tbody tr th {\n",
       "        vertical-align: top;\n",
       "    }\n",
       "\n",
       "    .dataframe thead th {\n",
       "        text-align: right;\n",
       "    }\n",
       "</style>\n",
       "<table border=\"1\" class=\"dataframe\">\n",
       "  <thead>\n",
       "    <tr style=\"text-align: right;\">\n",
       "      <th></th>\n",
       "      <th>Fare</th>\n",
       "      <th>Survived</th>\n",
       "    </tr>\n",
       "  </thead>\n",
       "  <tbody>\n",
       "    <tr>\n",
       "      <th>9</th>\n",
       "      <td>(78.02, 512.329]</td>\n",
       "      <td>0.758621</td>\n",
       "    </tr>\n",
       "    <tr>\n",
       "      <th>8</th>\n",
       "      <td>(41.579, 78.02]</td>\n",
       "      <td>0.529412</td>\n",
       "    </tr>\n",
       "    <tr>\n",
       "      <th>6</th>\n",
       "      <td>(21.558, 26.82]</td>\n",
       "      <td>0.511364</td>\n",
       "    </tr>\n",
       "    <tr>\n",
       "      <th>4</th>\n",
       "      <td>(10.5, 14.454]</td>\n",
       "      <td>0.428571</td>\n",
       "    </tr>\n",
       "    <tr>\n",
       "      <th>5</th>\n",
       "      <td>(14.454, 21.558]</td>\n",
       "      <td>0.425287</td>\n",
       "    </tr>\n",
       "    <tr>\n",
       "      <th>7</th>\n",
       "      <td>(26.82, 41.579]</td>\n",
       "      <td>0.381443</td>\n",
       "    </tr>\n",
       "    <tr>\n",
       "      <th>1</th>\n",
       "      <td>(7.57, 7.854]</td>\n",
       "      <td>0.298851</td>\n",
       "    </tr>\n",
       "    <tr>\n",
       "      <th>3</th>\n",
       "      <td>(8.05, 10.5]</td>\n",
       "      <td>0.230769</td>\n",
       "    </tr>\n",
       "    <tr>\n",
       "      <th>2</th>\n",
       "      <td>(7.854, 8.05]</td>\n",
       "      <td>0.179245</td>\n",
       "    </tr>\n",
       "    <tr>\n",
       "      <th>0</th>\n",
       "      <td>(-0.001, 7.57]</td>\n",
       "      <td>0.141304</td>\n",
       "    </tr>\n",
       "  </tbody>\n",
       "</table>\n",
       "</div>"
      ],
      "text/plain": [
       "               Fare  Survived\n",
       "9  (78.02, 512.329]  0.758621\n",
       "8   (41.579, 78.02]  0.529412\n",
       "6   (21.558, 26.82]  0.511364\n",
       "4    (10.5, 14.454]  0.428571\n",
       "5  (14.454, 21.558]  0.425287\n",
       "7   (26.82, 41.579]  0.381443\n",
       "1     (7.57, 7.854]  0.298851\n",
       "3      (8.05, 10.5]  0.230769\n",
       "2     (7.854, 8.05]  0.179245\n",
       "0    (-0.001, 7.57]  0.141304"
      ]
     },
     "execution_count": 51,
     "metadata": {},
     "output_type": "execute_result"
    }
   ],
   "source": [
    "train_df[['Fare','Survived']].groupby(['Fare'],as_index=False).mean().sort_values(by='Survived',ascending=False)"
   ]
  },
  {
   "cell_type": "markdown",
   "id": "662cde14",
   "metadata": {},
   "source": [
    "The people who paid more, has a higher survival chance. this is also a good feature becuase it has also a correlation with Pclass."
   ]
  },
  {
   "cell_type": "code",
   "execution_count": 52,
   "id": "1524f427",
   "metadata": {},
   "outputs": [],
   "source": [
    "train_df.Fare = LabelEncoder().fit_transform(train_df[\"Fare\"])"
   ]
  },
  {
   "cell_type": "code",
   "execution_count": 53,
   "id": "cfd98536",
   "metadata": {},
   "outputs": [],
   "source": [
    "test_df.Fare = LabelEncoder().fit_transform(test_df[\"Fare\"])"
   ]
  },
  {
   "cell_type": "markdown",
   "id": "928e47de",
   "metadata": {},
   "source": [
    "Now we can create our last feature named FamilySize and check if it's helpful or not."
   ]
  },
  {
   "cell_type": "code",
   "execution_count": 54,
   "id": "19806a28",
   "metadata": {},
   "outputs": [],
   "source": [
    "train_df[\"FamilySize\"] = train_df[\"SibSp\"]+train_df[\"Parch\"]\n",
    "test_df[\"FamilySize\"] = test_df[\"SibSp\"]+test_df[\"Parch\"]\n",
    "train_df.drop([\"SibSp\"],inplace= True, axis=1)\n",
    "test_df.drop([\"SibSp\"],inplace= True, axis=1)\n",
    "train_df.drop([\"Parch\"],inplace= True, axis=1)\n",
    "test_df.drop([\"Parch\"],inplace= True, axis=1)\n",
    "train_df.drop([\"Cabin\"],inplace= True, axis=1)\n",
    "test_df.drop([\"Cabin\"],inplace= True, axis=1)"
   ]
  },
  {
   "cell_type": "code",
   "execution_count": 55,
   "id": "36f27230",
   "metadata": {},
   "outputs": [
    {
     "data": {
      "text/html": [
       "<div>\n",
       "<style scoped>\n",
       "    .dataframe tbody tr th:only-of-type {\n",
       "        vertical-align: middle;\n",
       "    }\n",
       "\n",
       "    .dataframe tbody tr th {\n",
       "        vertical-align: top;\n",
       "    }\n",
       "\n",
       "    .dataframe thead th {\n",
       "        text-align: right;\n",
       "    }\n",
       "</style>\n",
       "<table border=\"1\" class=\"dataframe\">\n",
       "  <thead>\n",
       "    <tr style=\"text-align: right;\">\n",
       "      <th></th>\n",
       "      <th>FamilySize</th>\n",
       "      <th>Survived</th>\n",
       "    </tr>\n",
       "  </thead>\n",
       "  <tbody>\n",
       "    <tr>\n",
       "      <th>3</th>\n",
       "      <td>3.0</td>\n",
       "      <td>0.724138</td>\n",
       "    </tr>\n",
       "    <tr>\n",
       "      <th>2</th>\n",
       "      <td>2.0</td>\n",
       "      <td>0.578431</td>\n",
       "    </tr>\n",
       "    <tr>\n",
       "      <th>1</th>\n",
       "      <td>1.0</td>\n",
       "      <td>0.552795</td>\n",
       "    </tr>\n",
       "    <tr>\n",
       "      <th>6</th>\n",
       "      <td>6.0</td>\n",
       "      <td>0.333333</td>\n",
       "    </tr>\n",
       "    <tr>\n",
       "      <th>0</th>\n",
       "      <td>0.0</td>\n",
       "      <td>0.303538</td>\n",
       "    </tr>\n",
       "    <tr>\n",
       "      <th>4</th>\n",
       "      <td>4.0</td>\n",
       "      <td>0.200000</td>\n",
       "    </tr>\n",
       "    <tr>\n",
       "      <th>5</th>\n",
       "      <td>5.0</td>\n",
       "      <td>0.136364</td>\n",
       "    </tr>\n",
       "    <tr>\n",
       "      <th>7</th>\n",
       "      <td>7.0</td>\n",
       "      <td>0.000000</td>\n",
       "    </tr>\n",
       "    <tr>\n",
       "      <th>8</th>\n",
       "      <td>10.0</td>\n",
       "      <td>0.000000</td>\n",
       "    </tr>\n",
       "  </tbody>\n",
       "</table>\n",
       "</div>"
      ],
      "text/plain": [
       "   FamilySize  Survived\n",
       "3         3.0  0.724138\n",
       "2         2.0  0.578431\n",
       "1         1.0  0.552795\n",
       "6         6.0  0.333333\n",
       "0         0.0  0.303538\n",
       "4         4.0  0.200000\n",
       "5         5.0  0.136364\n",
       "7         7.0  0.000000\n",
       "8        10.0  0.000000"
      ]
     },
     "execution_count": 55,
     "metadata": {},
     "output_type": "execute_result"
    }
   ],
   "source": [
    "train_df[['FamilySize','Survived']].groupby(['FamilySize'],as_index=False).mean().sort_values(by='Survived',ascending=False)"
   ]
  },
  {
   "cell_type": "code",
   "execution_count": 56,
   "id": "eeab020f",
   "metadata": {},
   "outputs": [],
   "source": [
    "X_train = train_df.drop(\"Survived\", axis=1)\n",
    "Y_train = train_df[\"Survived\"]"
   ]
  },
  {
   "cell_type": "code",
   "execution_count": 57,
   "id": "6d4b38db",
   "metadata": {},
   "outputs": [],
   "source": [
    "X_test = test_df.drop(\"Survived\", axis=1)"
   ]
  },
  {
   "cell_type": "code",
   "execution_count": 58,
   "id": "45d6dd69",
   "metadata": {},
   "outputs": [
    {
     "data": {
      "text/html": [
       "<style>#sk-container-id-1 {color: black;background-color: white;}#sk-container-id-1 pre{padding: 0;}#sk-container-id-1 div.sk-toggleable {background-color: white;}#sk-container-id-1 label.sk-toggleable__label {cursor: pointer;display: block;width: 100%;margin-bottom: 0;padding: 0.3em;box-sizing: border-box;text-align: center;}#sk-container-id-1 label.sk-toggleable__label-arrow:before {content: \"▸\";float: left;margin-right: 0.25em;color: #696969;}#sk-container-id-1 label.sk-toggleable__label-arrow:hover:before {color: black;}#sk-container-id-1 div.sk-estimator:hover label.sk-toggleable__label-arrow:before {color: black;}#sk-container-id-1 div.sk-toggleable__content {max-height: 0;max-width: 0;overflow: hidden;text-align: left;background-color: #f0f8ff;}#sk-container-id-1 div.sk-toggleable__content pre {margin: 0.2em;color: black;border-radius: 0.25em;background-color: #f0f8ff;}#sk-container-id-1 input.sk-toggleable__control:checked~div.sk-toggleable__content {max-height: 200px;max-width: 100%;overflow: auto;}#sk-container-id-1 input.sk-toggleable__control:checked~label.sk-toggleable__label-arrow:before {content: \"▾\";}#sk-container-id-1 div.sk-estimator input.sk-toggleable__control:checked~label.sk-toggleable__label {background-color: #d4ebff;}#sk-container-id-1 div.sk-label input.sk-toggleable__control:checked~label.sk-toggleable__label {background-color: #d4ebff;}#sk-container-id-1 input.sk-hidden--visually {border: 0;clip: rect(1px 1px 1px 1px);clip: rect(1px, 1px, 1px, 1px);height: 1px;margin: -1px;overflow: hidden;padding: 0;position: absolute;width: 1px;}#sk-container-id-1 div.sk-estimator {font-family: monospace;background-color: #f0f8ff;border: 1px dotted black;border-radius: 0.25em;box-sizing: border-box;margin-bottom: 0.5em;}#sk-container-id-1 div.sk-estimator:hover {background-color: #d4ebff;}#sk-container-id-1 div.sk-parallel-item::after {content: \"\";width: 100%;border-bottom: 1px solid gray;flex-grow: 1;}#sk-container-id-1 div.sk-label:hover label.sk-toggleable__label {background-color: #d4ebff;}#sk-container-id-1 div.sk-serial::before {content: \"\";position: absolute;border-left: 1px solid gray;box-sizing: border-box;top: 0;bottom: 0;left: 50%;z-index: 0;}#sk-container-id-1 div.sk-serial {display: flex;flex-direction: column;align-items: center;background-color: white;padding-right: 0.2em;padding-left: 0.2em;position: relative;}#sk-container-id-1 div.sk-item {position: relative;z-index: 1;}#sk-container-id-1 div.sk-parallel {display: flex;align-items: stretch;justify-content: center;background-color: white;position: relative;}#sk-container-id-1 div.sk-item::before, #sk-container-id-1 div.sk-parallel-item::before {content: \"\";position: absolute;border-left: 1px solid gray;box-sizing: border-box;top: 0;bottom: 0;left: 50%;z-index: -1;}#sk-container-id-1 div.sk-parallel-item {display: flex;flex-direction: column;z-index: 1;position: relative;background-color: white;}#sk-container-id-1 div.sk-parallel-item:first-child::after {align-self: flex-end;width: 50%;}#sk-container-id-1 div.sk-parallel-item:last-child::after {align-self: flex-start;width: 50%;}#sk-container-id-1 div.sk-parallel-item:only-child::after {width: 0;}#sk-container-id-1 div.sk-dashed-wrapped {border: 1px dashed gray;margin: 0 0.4em 0.5em 0.4em;box-sizing: border-box;padding-bottom: 0.4em;background-color: white;}#sk-container-id-1 div.sk-label label {font-family: monospace;font-weight: bold;display: inline-block;line-height: 1.2em;}#sk-container-id-1 div.sk-label-container {text-align: center;}#sk-container-id-1 div.sk-container {/* jupyter's `normalize.less` sets `[hidden] { display: none; }` but bootstrap.min.css set `[hidden] { display: none !important; }` so we also need the `!important` here to be able to override the default hidden behavior on the sphinx rendered scikit-learn.org. See: https://github.com/scikit-learn/scikit-learn/issues/21755 */display: inline-block !important;position: relative;}#sk-container-id-1 div.sk-text-repr-fallback {display: none;}</style><div id=\"sk-container-id-1\" class=\"sk-top-container\"><div class=\"sk-text-repr-fallback\"><pre>GridSearchCV(cv=10, estimator=RandomForestClassifier(random_state=42),\n",
       "             n_jobs=-1,\n",
       "             param_grid={&#x27;criterion&#x27;: [&#x27;gini&#x27;, &#x27;entropy&#x27;, &#x27;log_loss&#x27;],\n",
       "                         &#x27;max_depth&#x27;: [3, 4, 5, 6, 7],\n",
       "                         &#x27;n_estimators&#x27;: [200, 250, 300, 350, 400, 450, 500]})</pre><b>In a Jupyter environment, please rerun this cell to show the HTML representation or trust the notebook. <br />On GitHub, the HTML representation is unable to render, please try loading this page with nbviewer.org.</b></div><div class=\"sk-container\" hidden><div class=\"sk-item sk-dashed-wrapped\"><div class=\"sk-label-container\"><div class=\"sk-label sk-toggleable\"><input class=\"sk-toggleable__control sk-hidden--visually\" id=\"sk-estimator-id-1\" type=\"checkbox\" ><label for=\"sk-estimator-id-1\" class=\"sk-toggleable__label sk-toggleable__label-arrow\">GridSearchCV</label><div class=\"sk-toggleable__content\"><pre>GridSearchCV(cv=10, estimator=RandomForestClassifier(random_state=42),\n",
       "             n_jobs=-1,\n",
       "             param_grid={&#x27;criterion&#x27;: [&#x27;gini&#x27;, &#x27;entropy&#x27;, &#x27;log_loss&#x27;],\n",
       "                         &#x27;max_depth&#x27;: [3, 4, 5, 6, 7],\n",
       "                         &#x27;n_estimators&#x27;: [200, 250, 300, 350, 400, 450, 500]})</pre></div></div></div><div class=\"sk-parallel\"><div class=\"sk-parallel-item\"><div class=\"sk-item\"><div class=\"sk-label-container\"><div class=\"sk-label sk-toggleable\"><input class=\"sk-toggleable__control sk-hidden--visually\" id=\"sk-estimator-id-2\" type=\"checkbox\" ><label for=\"sk-estimator-id-2\" class=\"sk-toggleable__label sk-toggleable__label-arrow\">estimator: RandomForestClassifier</label><div class=\"sk-toggleable__content\"><pre>RandomForestClassifier(random_state=42)</pre></div></div></div><div class=\"sk-serial\"><div class=\"sk-item\"><div class=\"sk-estimator sk-toggleable\"><input class=\"sk-toggleable__control sk-hidden--visually\" id=\"sk-estimator-id-3\" type=\"checkbox\" ><label for=\"sk-estimator-id-3\" class=\"sk-toggleable__label sk-toggleable__label-arrow\">RandomForestClassifier</label><div class=\"sk-toggleable__content\"><pre>RandomForestClassifier(random_state=42)</pre></div></div></div></div></div></div></div></div></div></div>"
      ],
      "text/plain": [
       "GridSearchCV(cv=10, estimator=RandomForestClassifier(random_state=42),\n",
       "             n_jobs=-1,\n",
       "             param_grid={'criterion': ['gini', 'entropy', 'log_loss'],\n",
       "                         'max_depth': [3, 4, 5, 6, 7],\n",
       "                         'n_estimators': [200, 250, 300, 350, 400, 450, 500]})"
      ]
     },
     "execution_count": 58,
     "metadata": {},
     "output_type": "execute_result"
    }
   ],
   "source": [
    "grid = {\n",
    "    \"criterion\": [\"gini\", \"entropy\",\"log_loss\"],\n",
    "    \"max_depth\": [3, 4, 5, 6, 7],\n",
    "    \"n_estimators\": [200, 250, 300, 350, 400, 450, 500],\n",
    "}\n",
    "\n",
    "\n",
    "rf= RandomForestClassifier(random_state=42)\n",
    "rfc = GridSearchCV(estimator=rf, param_grid=grid, n_jobs=-1, cv=10)\n",
    "rfc.fit(X_train, Y_train)"
   ]
  },
  {
   "cell_type": "code",
   "execution_count": 59,
   "id": "28385eea",
   "metadata": {},
   "outputs": [
    {
     "name": "stdout",
     "output_type": "stream",
     "text": [
      "List of possible accuracy: [0.8333333333333334, 0.8539325842696629, 0.7415730337078652, 0.9101123595505618, 0.8651685393258427, 0.8089887640449438, 0.8202247191011236, 0.7752808988764045, 0.8876404494382022, 0.8202247191011236]\n",
      "\n",
      "Maximum Accuracy That can be obtained from this model is: 91.01123595505618 %\n",
      "\n",
      "Minimum Accuracy: 74.15730337078652 %\n",
      "\n",
      "Overall Accuracy: 83.16479400749066\n"
     ]
    }
   ],
   "source": [
    "skf = StratifiedKFold(n_splits=10)\n",
    "random_forest = RandomForestClassifier(criterion=\"gini\", max_depth=6, n_estimators=450, random_state=42)\n",
    "lst_accu_stratified = []\n",
    "for train_index, test_index in skf.split(X_train, Y_train):\n",
    "    x_train_fold, x_test_fold = X_train.iloc[train_index], X_train.iloc[test_index]\n",
    "    y_train_fold, y_test_fold = Y_train.iloc[train_index], Y_train.iloc[test_index]\n",
    "    random_forest.fit(x_train_fold, y_train_fold)\n",
    "    lst_accu_stratified.append(random_forest.score(x_test_fold, y_test_fold))\n",
    "print('List of possible accuracy:', lst_accu_stratified)\n",
    "print('\\nMaximum Accuracy That can be obtained from this model is:',\n",
    "      max(lst_accu_stratified)*100, '%')\n",
    "print('\\nMinimum Accuracy:',\n",
    "      min(lst_accu_stratified)*100, '%')\n",
    "print('\\nOverall Accuracy:',\n",
    "      sum(lst_accu_stratified)/10*100)"
   ]
  },
  {
   "cell_type": "markdown",
   "id": "7c546087",
   "metadata": {},
   "source": [
    "best_model = rfc.best_estimator_\n",
    "\n",
    "print(\"\\nBest parameters:\")\n",
    "print(rfc.best_score_)"
   ]
  },
  {
   "cell_type": "code",
   "execution_count": 60,
   "id": "64d6fa25",
   "metadata": {},
   "outputs": [],
   "source": [
    "random_forest = RandomForestClassifier(criterion=\"gini\", max_depth=6, n_estimators=450, random_state=42)\n",
    "random_forest.fit(X_train, Y_train)\n",
    "Y_pred = random_forest.predict(X_test)\n",
    "Y_pred = Y_pred.astype(int)"
   ]
  },
  {
   "cell_type": "code",
   "execution_count": 61,
   "id": "d95bfc76",
   "metadata": {},
   "outputs": [
    {
     "data": {
      "text/plain": [
       "0.8496071829405163"
      ]
     },
     "execution_count": 61,
     "metadata": {},
     "output_type": "execute_result"
    }
   ],
   "source": [
    "random_forest.score(X_train, Y_train)"
   ]
  },
  {
   "cell_type": "code",
   "execution_count": 62,
   "id": "69a7607e",
   "metadata": {},
   "outputs": [],
   "source": [
    "cv_test = cross_val_predict(random_forest,cv=5,X=X_train,y=Y_train)"
   ]
  },
  {
   "cell_type": "code",
   "execution_count": 63,
   "id": "923f9894",
   "metadata": {},
   "outputs": [
    {
     "name": "stdout",
     "output_type": "stream",
     "text": [
      "              precision    recall  f1-score   support\n",
      "\n",
      "         0.0       0.83      0.90      0.86       549\n",
      "         1.0       0.81      0.71      0.76       342\n",
      "\n",
      "    accuracy                           0.82       891\n",
      "   macro avg       0.82      0.80      0.81       891\n",
      "weighted avg       0.82      0.82      0.82       891\n",
      "\n"
     ]
    }
   ],
   "source": [
    "print(classification_report(Y_train,cv_test))"
   ]
  },
  {
   "cell_type": "code",
   "execution_count": 64,
   "id": "a5d23654",
   "metadata": {},
   "outputs": [],
   "source": [
    "pd.DataFrame(Y_pred,index=X_test.index,columns=['Survived']).to_csv('submission.csv')"
   ]
  },
  {
   "cell_type": "code",
   "execution_count": 65,
   "id": "923e990a",
   "metadata": {},
   "outputs": [
    {
     "data": {
      "text/html": [
       "<style>#sk-container-id-2 {color: black;background-color: white;}#sk-container-id-2 pre{padding: 0;}#sk-container-id-2 div.sk-toggleable {background-color: white;}#sk-container-id-2 label.sk-toggleable__label {cursor: pointer;display: block;width: 100%;margin-bottom: 0;padding: 0.3em;box-sizing: border-box;text-align: center;}#sk-container-id-2 label.sk-toggleable__label-arrow:before {content: \"▸\";float: left;margin-right: 0.25em;color: #696969;}#sk-container-id-2 label.sk-toggleable__label-arrow:hover:before {color: black;}#sk-container-id-2 div.sk-estimator:hover label.sk-toggleable__label-arrow:before {color: black;}#sk-container-id-2 div.sk-toggleable__content {max-height: 0;max-width: 0;overflow: hidden;text-align: left;background-color: #f0f8ff;}#sk-container-id-2 div.sk-toggleable__content pre {margin: 0.2em;color: black;border-radius: 0.25em;background-color: #f0f8ff;}#sk-container-id-2 input.sk-toggleable__control:checked~div.sk-toggleable__content {max-height: 200px;max-width: 100%;overflow: auto;}#sk-container-id-2 input.sk-toggleable__control:checked~label.sk-toggleable__label-arrow:before {content: \"▾\";}#sk-container-id-2 div.sk-estimator input.sk-toggleable__control:checked~label.sk-toggleable__label {background-color: #d4ebff;}#sk-container-id-2 div.sk-label input.sk-toggleable__control:checked~label.sk-toggleable__label {background-color: #d4ebff;}#sk-container-id-2 input.sk-hidden--visually {border: 0;clip: rect(1px 1px 1px 1px);clip: rect(1px, 1px, 1px, 1px);height: 1px;margin: -1px;overflow: hidden;padding: 0;position: absolute;width: 1px;}#sk-container-id-2 div.sk-estimator {font-family: monospace;background-color: #f0f8ff;border: 1px dotted black;border-radius: 0.25em;box-sizing: border-box;margin-bottom: 0.5em;}#sk-container-id-2 div.sk-estimator:hover {background-color: #d4ebff;}#sk-container-id-2 div.sk-parallel-item::after {content: \"\";width: 100%;border-bottom: 1px solid gray;flex-grow: 1;}#sk-container-id-2 div.sk-label:hover label.sk-toggleable__label {background-color: #d4ebff;}#sk-container-id-2 div.sk-serial::before {content: \"\";position: absolute;border-left: 1px solid gray;box-sizing: border-box;top: 0;bottom: 0;left: 50%;z-index: 0;}#sk-container-id-2 div.sk-serial {display: flex;flex-direction: column;align-items: center;background-color: white;padding-right: 0.2em;padding-left: 0.2em;position: relative;}#sk-container-id-2 div.sk-item {position: relative;z-index: 1;}#sk-container-id-2 div.sk-parallel {display: flex;align-items: stretch;justify-content: center;background-color: white;position: relative;}#sk-container-id-2 div.sk-item::before, #sk-container-id-2 div.sk-parallel-item::before {content: \"\";position: absolute;border-left: 1px solid gray;box-sizing: border-box;top: 0;bottom: 0;left: 50%;z-index: -1;}#sk-container-id-2 div.sk-parallel-item {display: flex;flex-direction: column;z-index: 1;position: relative;background-color: white;}#sk-container-id-2 div.sk-parallel-item:first-child::after {align-self: flex-end;width: 50%;}#sk-container-id-2 div.sk-parallel-item:last-child::after {align-self: flex-start;width: 50%;}#sk-container-id-2 div.sk-parallel-item:only-child::after {width: 0;}#sk-container-id-2 div.sk-dashed-wrapped {border: 1px dashed gray;margin: 0 0.4em 0.5em 0.4em;box-sizing: border-box;padding-bottom: 0.4em;background-color: white;}#sk-container-id-2 div.sk-label label {font-family: monospace;font-weight: bold;display: inline-block;line-height: 1.2em;}#sk-container-id-2 div.sk-label-container {text-align: center;}#sk-container-id-2 div.sk-container {/* jupyter's `normalize.less` sets `[hidden] { display: none; }` but bootstrap.min.css set `[hidden] { display: none !important; }` so we also need the `!important` here to be able to override the default hidden behavior on the sphinx rendered scikit-learn.org. See: https://github.com/scikit-learn/scikit-learn/issues/21755 */display: inline-block !important;position: relative;}#sk-container-id-2 div.sk-text-repr-fallback {display: none;}</style><div id=\"sk-container-id-2\" class=\"sk-top-container\"><div class=\"sk-text-repr-fallback\"><pre>GridSearchCV(cv=5, estimator=LogisticRegression(), n_jobs=-1,\n",
       "             param_grid={&#x27;C&#x27;: [10, 1.0, 0.1, 0.01], &#x27;penalty&#x27;: [&#x27;l2&#x27;, &#x27;none&#x27;]})</pre><b>In a Jupyter environment, please rerun this cell to show the HTML representation or trust the notebook. <br />On GitHub, the HTML representation is unable to render, please try loading this page with nbviewer.org.</b></div><div class=\"sk-container\" hidden><div class=\"sk-item sk-dashed-wrapped\"><div class=\"sk-label-container\"><div class=\"sk-label sk-toggleable\"><input class=\"sk-toggleable__control sk-hidden--visually\" id=\"sk-estimator-id-4\" type=\"checkbox\" ><label for=\"sk-estimator-id-4\" class=\"sk-toggleable__label sk-toggleable__label-arrow\">GridSearchCV</label><div class=\"sk-toggleable__content\"><pre>GridSearchCV(cv=5, estimator=LogisticRegression(), n_jobs=-1,\n",
       "             param_grid={&#x27;C&#x27;: [10, 1.0, 0.1, 0.01], &#x27;penalty&#x27;: [&#x27;l2&#x27;, &#x27;none&#x27;]})</pre></div></div></div><div class=\"sk-parallel\"><div class=\"sk-parallel-item\"><div class=\"sk-item\"><div class=\"sk-label-container\"><div class=\"sk-label sk-toggleable\"><input class=\"sk-toggleable__control sk-hidden--visually\" id=\"sk-estimator-id-5\" type=\"checkbox\" ><label for=\"sk-estimator-id-5\" class=\"sk-toggleable__label sk-toggleable__label-arrow\">estimator: LogisticRegression</label><div class=\"sk-toggleable__content\"><pre>LogisticRegression()</pre></div></div></div><div class=\"sk-serial\"><div class=\"sk-item\"><div class=\"sk-estimator sk-toggleable\"><input class=\"sk-toggleable__control sk-hidden--visually\" id=\"sk-estimator-id-6\" type=\"checkbox\" ><label for=\"sk-estimator-id-6\" class=\"sk-toggleable__label sk-toggleable__label-arrow\">LogisticRegression</label><div class=\"sk-toggleable__content\"><pre>LogisticRegression()</pre></div></div></div></div></div></div></div></div></div></div>"
      ],
      "text/plain": [
       "GridSearchCV(cv=5, estimator=LogisticRegression(), n_jobs=-1,\n",
       "             param_grid={'C': [10, 1.0, 0.1, 0.01], 'penalty': ['l2', 'none']})"
      ]
     },
     "execution_count": 65,
     "metadata": {},
     "output_type": "execute_result"
    }
   ],
   "source": [
    "grid = {\n",
    "    \"penalty\" : ['l2','none'],\n",
    "    \"C\" : [ 10, 1.0, 0.1, 0.01],\n",
    "}\n",
    "\n",
    "\n",
    "rf= LogisticRegression()\n",
    "rfc = GridSearchCV(estimator=rf, param_grid=grid, n_jobs=-1, cv=5)\n",
    "rfc.fit(X_train, Y_train)"
   ]
  },
  {
   "cell_type": "code",
   "execution_count": 66,
   "id": "1ac1aa43",
   "metadata": {},
   "outputs": [
    {
     "name": "stdout",
     "output_type": "stream",
     "text": [
      "\n",
      "Best parameters:\n",
      "{'C': 1.0, 'penalty': 'l2'}\n"
     ]
    }
   ],
   "source": [
    "best_model = rfc.best_estimator_\n",
    "\n",
    "print(\"\\nBest parameters:\") \n",
    "print(rfc.best_params_)"
   ]
  },
  {
   "cell_type": "code",
   "execution_count": 67,
   "id": "c53b871d",
   "metadata": {},
   "outputs": [
    {
     "data": {
      "text/plain": [
       "0.8249158249158249"
      ]
     },
     "execution_count": 67,
     "metadata": {},
     "output_type": "execute_result"
    }
   ],
   "source": [
    "logreg = LogisticRegression(C=10,penalty=\"l2\")\n",
    "logreg.fit(X_train, Y_train)\n",
    "logreg.score(X_train, Y_train)"
   ]
  },
  {
   "cell_type": "code",
   "execution_count": 68,
   "id": "f12efaed",
   "metadata": {},
   "outputs": [],
   "source": [
    "cv_test = cross_val_predict(logreg,cv=5,X=X_train,y=Y_train)"
   ]
  },
  {
   "cell_type": "code",
   "execution_count": 69,
   "id": "90c48ccf",
   "metadata": {},
   "outputs": [
    {
     "name": "stdout",
     "output_type": "stream",
     "text": [
      "              precision    recall  f1-score   support\n",
      "\n",
      "         0.0       0.84      0.87      0.86       549\n",
      "         1.0       0.78      0.73      0.76       342\n",
      "\n",
      "    accuracy                           0.82       891\n",
      "   macro avg       0.81      0.80      0.81       891\n",
      "weighted avg       0.82      0.82      0.82       891\n",
      "\n"
     ]
    }
   ],
   "source": [
    "print(classification_report(Y_train,cv_test))"
   ]
  },
  {
   "cell_type": "code",
   "execution_count": 70,
   "id": "1481894a",
   "metadata": {},
   "outputs": [
    {
     "data": {
      "text/html": [
       "<style>#sk-container-id-3 {color: black;background-color: white;}#sk-container-id-3 pre{padding: 0;}#sk-container-id-3 div.sk-toggleable {background-color: white;}#sk-container-id-3 label.sk-toggleable__label {cursor: pointer;display: block;width: 100%;margin-bottom: 0;padding: 0.3em;box-sizing: border-box;text-align: center;}#sk-container-id-3 label.sk-toggleable__label-arrow:before {content: \"▸\";float: left;margin-right: 0.25em;color: #696969;}#sk-container-id-3 label.sk-toggleable__label-arrow:hover:before {color: black;}#sk-container-id-3 div.sk-estimator:hover label.sk-toggleable__label-arrow:before {color: black;}#sk-container-id-3 div.sk-toggleable__content {max-height: 0;max-width: 0;overflow: hidden;text-align: left;background-color: #f0f8ff;}#sk-container-id-3 div.sk-toggleable__content pre {margin: 0.2em;color: black;border-radius: 0.25em;background-color: #f0f8ff;}#sk-container-id-3 input.sk-toggleable__control:checked~div.sk-toggleable__content {max-height: 200px;max-width: 100%;overflow: auto;}#sk-container-id-3 input.sk-toggleable__control:checked~label.sk-toggleable__label-arrow:before {content: \"▾\";}#sk-container-id-3 div.sk-estimator input.sk-toggleable__control:checked~label.sk-toggleable__label {background-color: #d4ebff;}#sk-container-id-3 div.sk-label input.sk-toggleable__control:checked~label.sk-toggleable__label {background-color: #d4ebff;}#sk-container-id-3 input.sk-hidden--visually {border: 0;clip: rect(1px 1px 1px 1px);clip: rect(1px, 1px, 1px, 1px);height: 1px;margin: -1px;overflow: hidden;padding: 0;position: absolute;width: 1px;}#sk-container-id-3 div.sk-estimator {font-family: monospace;background-color: #f0f8ff;border: 1px dotted black;border-radius: 0.25em;box-sizing: border-box;margin-bottom: 0.5em;}#sk-container-id-3 div.sk-estimator:hover {background-color: #d4ebff;}#sk-container-id-3 div.sk-parallel-item::after {content: \"\";width: 100%;border-bottom: 1px solid gray;flex-grow: 1;}#sk-container-id-3 div.sk-label:hover label.sk-toggleable__label {background-color: #d4ebff;}#sk-container-id-3 div.sk-serial::before {content: \"\";position: absolute;border-left: 1px solid gray;box-sizing: border-box;top: 0;bottom: 0;left: 50%;z-index: 0;}#sk-container-id-3 div.sk-serial {display: flex;flex-direction: column;align-items: center;background-color: white;padding-right: 0.2em;padding-left: 0.2em;position: relative;}#sk-container-id-3 div.sk-item {position: relative;z-index: 1;}#sk-container-id-3 div.sk-parallel {display: flex;align-items: stretch;justify-content: center;background-color: white;position: relative;}#sk-container-id-3 div.sk-item::before, #sk-container-id-3 div.sk-parallel-item::before {content: \"\";position: absolute;border-left: 1px solid gray;box-sizing: border-box;top: 0;bottom: 0;left: 50%;z-index: -1;}#sk-container-id-3 div.sk-parallel-item {display: flex;flex-direction: column;z-index: 1;position: relative;background-color: white;}#sk-container-id-3 div.sk-parallel-item:first-child::after {align-self: flex-end;width: 50%;}#sk-container-id-3 div.sk-parallel-item:last-child::after {align-self: flex-start;width: 50%;}#sk-container-id-3 div.sk-parallel-item:only-child::after {width: 0;}#sk-container-id-3 div.sk-dashed-wrapped {border: 1px dashed gray;margin: 0 0.4em 0.5em 0.4em;box-sizing: border-box;padding-bottom: 0.4em;background-color: white;}#sk-container-id-3 div.sk-label label {font-family: monospace;font-weight: bold;display: inline-block;line-height: 1.2em;}#sk-container-id-3 div.sk-label-container {text-align: center;}#sk-container-id-3 div.sk-container {/* jupyter's `normalize.less` sets `[hidden] { display: none; }` but bootstrap.min.css set `[hidden] { display: none !important; }` so we also need the `!important` here to be able to override the default hidden behavior on the sphinx rendered scikit-learn.org. See: https://github.com/scikit-learn/scikit-learn/issues/21755 */display: inline-block !important;position: relative;}#sk-container-id-3 div.sk-text-repr-fallback {display: none;}</style><div id=\"sk-container-id-3\" class=\"sk-top-container\"><div class=\"sk-text-repr-fallback\"><pre>GridSearchCV(cv=5, estimator=SVC(), n_jobs=-1,\n",
       "             param_grid={&#x27;C&#x27;: [0.1, 1, 2, 10], &#x27;gamma&#x27;: [0.01, 0.1, 1],\n",
       "                         &#x27;kernel&#x27;: [&#x27;rbf&#x27;]})</pre><b>In a Jupyter environment, please rerun this cell to show the HTML representation or trust the notebook. <br />On GitHub, the HTML representation is unable to render, please try loading this page with nbviewer.org.</b></div><div class=\"sk-container\" hidden><div class=\"sk-item sk-dashed-wrapped\"><div class=\"sk-label-container\"><div class=\"sk-label sk-toggleable\"><input class=\"sk-toggleable__control sk-hidden--visually\" id=\"sk-estimator-id-7\" type=\"checkbox\" ><label for=\"sk-estimator-id-7\" class=\"sk-toggleable__label sk-toggleable__label-arrow\">GridSearchCV</label><div class=\"sk-toggleable__content\"><pre>GridSearchCV(cv=5, estimator=SVC(), n_jobs=-1,\n",
       "             param_grid={&#x27;C&#x27;: [0.1, 1, 2, 10], &#x27;gamma&#x27;: [0.01, 0.1, 1],\n",
       "                         &#x27;kernel&#x27;: [&#x27;rbf&#x27;]})</pre></div></div></div><div class=\"sk-parallel\"><div class=\"sk-parallel-item\"><div class=\"sk-item\"><div class=\"sk-label-container\"><div class=\"sk-label sk-toggleable\"><input class=\"sk-toggleable__control sk-hidden--visually\" id=\"sk-estimator-id-8\" type=\"checkbox\" ><label for=\"sk-estimator-id-8\" class=\"sk-toggleable__label sk-toggleable__label-arrow\">estimator: SVC</label><div class=\"sk-toggleable__content\"><pre>SVC()</pre></div></div></div><div class=\"sk-serial\"><div class=\"sk-item\"><div class=\"sk-estimator sk-toggleable\"><input class=\"sk-toggleable__control sk-hidden--visually\" id=\"sk-estimator-id-9\" type=\"checkbox\" ><label for=\"sk-estimator-id-9\" class=\"sk-toggleable__label sk-toggleable__label-arrow\">SVC</label><div class=\"sk-toggleable__content\"><pre>SVC()</pre></div></div></div></div></div></div></div></div></div></div>"
      ],
      "text/plain": [
       "GridSearchCV(cv=5, estimator=SVC(), n_jobs=-1,\n",
       "             param_grid={'C': [0.1, 1, 2, 10], 'gamma': [0.01, 0.1, 1],\n",
       "                         'kernel': ['rbf']})"
      ]
     },
     "execution_count": 70,
     "metadata": {},
     "output_type": "execute_result"
    }
   ],
   "source": [
    "grid = {\n",
    "    \"kernel\" : ['rbf'],\n",
    "    \"gamma\": [0.01, 0.1, 1],\n",
    "    \"C\" : [0.1, 1, 2, 10],\n",
    "}\n",
    "\n",
    "\n",
    "rf= SVC()\n",
    "rfc = GridSearchCV(estimator=rf, param_grid=grid, n_jobs=-1, cv=5)\n",
    "rfc.fit(X_train, Y_train)"
   ]
  },
  {
   "cell_type": "code",
   "execution_count": 71,
   "id": "6378b92c",
   "metadata": {},
   "outputs": [
    {
     "name": "stdout",
     "output_type": "stream",
     "text": [
      "\n",
      "Best parameters:\n",
      "{'C': 1, 'gamma': 0.1, 'kernel': 'rbf'}\n"
     ]
    }
   ],
   "source": [
    "best_model = rfc.best_estimator_\n",
    "\n",
    "print(\"\\nBest parameters:\") \n",
    "print(rfc.best_params_)\n"
   ]
  },
  {
   "cell_type": "code",
   "execution_count": 72,
   "id": "56c47a53",
   "metadata": {},
   "outputs": [
    {
     "name": "stdout",
     "output_type": "stream",
     "text": [
      "List of possible accuracy: [0.8333333333333334, 0.8539325842696629, 0.7752808988764045, 0.8764044943820225, 0.8314606741573034, 0.797752808988764, 0.8089887640449438, 0.7865168539325843, 0.8539325842696629, 0.8539325842696629]\n",
      "\n",
      "Maximum Accuracy That can be obtained from this model is: 87.64044943820225 %\n",
      "\n",
      "Minimum Accuracy: 77.52808988764045 %\n",
      "\n",
      "Overall Accuracy: 82.71535580524345\n"
     ]
    }
   ],
   "source": [
    "skf = StratifiedKFold(n_splits=10)\n",
    "svc = SVC(C=1 ,gamma=0.1, kernel=\"rbf\")\n",
    "lst_accu_stratified = []\n",
    "for train_index, test_index in skf.split(X_train, Y_train):\n",
    "    x_train_fold, x_test_fold = X_train.iloc[train_index], X_train.iloc[test_index]\n",
    "    y_train_fold, y_test_fold = Y_train.iloc[train_index], Y_train.iloc[test_index]\n",
    "    svc.fit(x_train_fold, y_train_fold)\n",
    "    lst_accu_stratified.append(svc.score(x_test_fold, y_test_fold))\n",
    "print('List of possible accuracy:', lst_accu_stratified)\n",
    "print('\\nMaximum Accuracy That can be obtained from this model is:',\n",
    "      max(lst_accu_stratified)*100, '%')\n",
    "print('\\nMinimum Accuracy:',\n",
    "      min(lst_accu_stratified)*100, '%')\n",
    "print('\\nOverall Accuracy:',\n",
    "      sum(lst_accu_stratified)/10*100)"
   ]
  },
  {
   "cell_type": "code",
   "execution_count": 73,
   "id": "60472872",
   "metadata": {},
   "outputs": [
    {
     "data": {
      "text/plain": [
       "0.8361391694725028"
      ]
     },
     "execution_count": 73,
     "metadata": {},
     "output_type": "execute_result"
    }
   ],
   "source": [
    "svc = SVC(C=1 ,gamma=0.1, kernel=\"rbf\")\n",
    "svc.fit(X_train, Y_train)\n",
    "Y_pred = svc.predict(X_test)\n",
    "svc.score(X_train, Y_train)"
   ]
  },
  {
   "cell_type": "code",
   "execution_count": 74,
   "id": "7c318a65",
   "metadata": {},
   "outputs": [],
   "source": [
    "cv_test = cross_val_predict(svc,cv=5,X=X_train,y=Y_train)"
   ]
  },
  {
   "cell_type": "code",
   "execution_count": 75,
   "id": "978f2115",
   "metadata": {},
   "outputs": [
    {
     "name": "stdout",
     "output_type": "stream",
     "text": [
      "              precision    recall  f1-score   support\n",
      "\n",
      "         0.0       0.84      0.90      0.87       549\n",
      "         1.0       0.81      0.72      0.76       342\n",
      "\n",
      "    accuracy                           0.83       891\n",
      "   macro avg       0.83      0.81      0.82       891\n",
      "weighted avg       0.83      0.83      0.83       891\n",
      "\n"
     ]
    }
   ],
   "source": [
    "print(classification_report(Y_train,cv_test))"
   ]
  },
  {
   "cell_type": "code",
   "execution_count": 76,
   "id": "f548fe4a",
   "metadata": {},
   "outputs": [
    {
     "data": {
      "text/plain": [
       "0.9012345679012346"
      ]
     },
     "execution_count": 76,
     "metadata": {},
     "output_type": "execute_result"
    }
   ],
   "source": [
    "decision_tree = DecisionTreeClassifier()\n",
    "decision_tree.fit(X_train, Y_train)\n",
    "Y_pred = decision_tree.predict(X_test)\n",
    "decision_tree.score(X_train, Y_train)"
   ]
  },
  {
   "cell_type": "code",
   "execution_count": 77,
   "id": "31addc63",
   "metadata": {},
   "outputs": [],
   "source": [
    "cv_test = cross_val_predict(decision_tree,cv=5,X=X_train,y=Y_train)"
   ]
  },
  {
   "cell_type": "code",
   "execution_count": 78,
   "id": "60c68e53",
   "metadata": {},
   "outputs": [
    {
     "name": "stdout",
     "output_type": "stream",
     "text": [
      "              precision    recall  f1-score   support\n",
      "\n",
      "         0.0       0.81      0.88      0.84       549\n",
      "         1.0       0.77      0.67      0.72       342\n",
      "\n",
      "    accuracy                           0.80       891\n",
      "   macro avg       0.79      0.77      0.78       891\n",
      "weighted avg       0.80      0.80      0.79       891\n",
      "\n"
     ]
    }
   ],
   "source": [
    "print(classification_report(Y_train,cv_test))"
   ]
  },
  {
   "cell_type": "code",
   "execution_count": null,
   "id": "5778a3d7",
   "metadata": {},
   "outputs": [],
   "source": []
  }
 ],
 "metadata": {
  "kernelspec": {
   "display_name": "Python 3 (ipykernel)",
   "language": "python",
   "name": "python3"
  },
  "language_info": {
   "codemirror_mode": {
    "name": "ipython",
    "version": 3
   },
   "file_extension": ".py",
   "mimetype": "text/x-python",
   "name": "python",
   "nbconvert_exporter": "python",
   "pygments_lexer": "ipython3",
   "version": "3.11.0"
  }
 },
 "nbformat": 4,
 "nbformat_minor": 5
}
